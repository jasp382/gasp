{
 "cells": [
  {
   "cell_type": "code",
   "execution_count": null,
   "metadata": {},
   "outputs": [],
   "source": [
    "def get_epsg_shp(shp, returnIsProj=None):\n",
    "    \"\"\"\n",
    "    Return EPSG code of the Spatial Reference System of a Feature Class\n",
    "    \"\"\"\n",
    "    \n",
    "    from gasp3.pyt.oss import get_fileformat\n",
    "    \n",
    "    if get_fileformat(shp) != '.gml':\n",
    "        proj = get_shp_sref(shp)\n",
    "    else:\n",
    "        epsg = get_gml_epsg(shp)\n",
    "        \n",
    "        if not epsg:\n",
    "            raise ValueError(\n",
    "                '{} file has not Spatial Reference assigned!'.format(shp)\n",
    "            )\n",
    "        \n",
    "        proj = get_sref_from_epsg(int(epsg))\n",
    "    \n",
    "    if not proj:\n",
    "        raise ValueError(\n",
    "            '{} file has not Spatial Reference assigned!'.format(shp)\n",
    "        )\n",
    "    \n",
    "    epsg = int(str(proj.GetAttrValue(str('AUTHORITY'), 1)))\n",
    "    \n",
    "    if not returnIsProj:\n",
    "        return epsg\n",
    "    else:\n",
    "        if proj.IsProjected:\n",
    "            mod_proj = proj.GetAttrValue(str('projcs'))\n",
    "            \n",
    "            if not mod_proj:\n",
    "                return epsg, None\n",
    "            else:\n",
    "                return epsg, True\n",
    "        \n",
    "        else:\n",
    "            return epsg, None"
   ]
  },
  {
   "cell_type": "code",
   "execution_count": 2,
   "metadata": {},
   "outputs": [],
   "source": [
    "from gasp3.gt.prop.prj import get_shp_sref\n",
    "\n",
    "shp = r'D:\\jside_data\\dados_alqueva\\Concelhos_alqueva.shp'\n",
    "\n",
    "proj = get_shp_sref(shp)"
   ]
  },
  {
   "cell_type": "code",
   "execution_count": 4,
   "metadata": {},
   "outputs": [
    {
     "name": "stdout",
     "output_type": "stream",
     "text": [
      "EPSG\n",
      "6258\n"
     ]
    }
   ],
   "source": [
    "tst  = proj.GetAttrValue(str('AUTHORITY'), 0)\n",
    "epsg = int(str(proj.GetAttrValue(str('AUTHORITY'), 1)))\n",
    "\n",
    "print(tst)\n",
    "print(epsg)"
   ]
  },
  {
   "cell_type": "code",
   "execution_count": null,
   "metadata": {},
   "outputs": [],
   "source": []
  }
 ],
 "metadata": {
  "kernelspec": {
   "display_name": "Python 3",
   "language": "python",
   "name": "python3"
  },
  "language_info": {
   "codemirror_mode": {
    "name": "ipython",
    "version": 3
   },
   "file_extension": ".py",
   "mimetype": "text/x-python",
   "name": "python",
   "nbconvert_exporter": "python",
   "pygments_lexer": "ipython3",
   "version": "3.7.3"
  }
 },
 "nbformat": 4,
 "nbformat_minor": 2
}
