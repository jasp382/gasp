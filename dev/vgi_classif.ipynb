{
 "cells": [
  {
   "cell_type": "code",
   "execution_count": null,
   "metadata": {},
   "outputs": [],
   "source": [
    "# Collect data from facebook\n",
    "\n",
    "from gasp.pnd.facebook import places_to_shp\n",
    "\n",
    "searchArea = r'D:\\gis\\VGI_CLASSFI\\CLS_BUILD\\lmt\\search_radius.shp'\n",
    "epsg = 3763\n",
    "outepsg = 3763\n",
    "outShp = r'D:\\gis\\VGI_CLASSFI\\CLS_BUILD\\facedata2.shp'\n",
    "\n",
    "places_to_shp(searchArea, epsg, outepsg, outShp, onlySearchArea=None)"
   ]
  },
  {
   "cell_type": "code",
   "execution_count": null,
   "metadata": {},
   "outputs": [],
   "source": [
    "from gasp.dsn import dsn_data_collection_by_multibuffer\n",
    "\n",
    "BFS = {\n",
    "    \"lisbon\" : {\n",
    "        \"path\" : r'D:\\gis\\VGI_CLASSFI\\CLS_BUILD\\lmt\\search_radius.shp',\n",
    "        \"epsg\" : 3763\n",
    "    }\n",
    "}\n",
    "CON_PARAM = {'HOST' : 'localhost', 'PORT' : '5432', 'USER' : 'postgres', 'PASSWORD' : 'admin', 'DB' : 'face_extraction',\n",
    "            'TEMPLATE' : 'postgis_template'}\n",
    "\n",
    "dsn_data_collection_by_multibuffer(\n",
    "    BFS, r'D:\\gis\\VGI_CLASSFI\\CLS_BUILD', CON_PARAM, 'facebook'\n",
    ")"
   ]
  },
  {
   "cell_type": "code",
   "execution_count": null,
   "metadata": {},
   "outputs": [],
   "source": [
    "from gasp.web import data_from_get\n",
    "\n",
    "\n",
    "\n",
    "URL = 'https://api.foursquare.com/v2/venues/search'\n",
    "data = data_from_get(URL, dict(\n",
    "    client_id=CLIENT_ID, client_secret=CLIENT_SECRET,\n",
    "    v='20180323',\n",
    "    ll='40.7243,-74.0018',\n",
    "    intent='browse',\n",
    "    radius='250',\n",
    "    limit=50\n",
    "))"
   ]
  },
  {
   "cell_type": "code",
   "execution_count": null,
   "metadata": {},
   "outputs": [],
   "source": [
    "import pandas\n",
    "from gasp.pnd.mng.fld import listval_to_newcols\n",
    "\n",
    "dataDf = pandas.DataFrame(data['response']['venues'])\n",
    "\n",
    "dataDf.drop([\n",
    "    'contact', 'hasPerk', 'referralId', 'venuePage', 'verified',\n",
    "    'venueChains', 'id'\n",
    "], axis=1, inplace=True)\n",
    "\n",
    "dataDf.rename(columns={'name' : 'name_main'}, inplace=True)\n",
    "\n",
    "dataDf = listval_to_newcols(dataDf, 'location')\n",
    "\n",
    "dataDf.drop([\n",
    "    \"labeledLatLngs\", \"neighborhood\", \"state\", \"distance\",\n",
    "    \"crossStreet\", 'country', 'city', 'cc', 'address' \n",
    "], axis=1, inplace=True)\n",
    "\n",
    "dataDf[\"formattedAddress\"] = dataDf[\"formattedAddress\"].astype(str)\n",
    "\n",
    "dataDf = listval_to_newcols(dataDf, 'stats')\n",
    "dataDf = listval_to_newcols(dataDf, 'categories')\n",
    "dataDf = listval_to_newcols(dataDf, 0)\n",
    "\n",
    "dataDf.drop([\n",
    "    \"primary\", \"id\", \"icon\"\n",
    "], axis=1, inplace=True)\n",
    "\n",
    "dataDf = listval_to_newcols(dataDf, 'beenHere')\n",
    "\n",
    "dataDf.drop([\n",
    "    \"marked\", \"unconfirmedCount\", \"lastCheckinExpiredAt\"\n",
    "], axis=1, inplace=True)"
   ]
  },
  {
   "cell_type": "code",
   "execution_count": null,
   "metadata": {},
   "outputs": [],
   "source": [
    "print dataDf"
   ]
  },
  {
   "cell_type": "code",
   "execution_count": null,
   "metadata": {},
   "outputs": [],
   "source": [
    "from gasp.fmapi.twitter import search_places\n",
    "from gasp.gdl.anls.prox.bfs import getBufferParam\n",
    "\n",
    "searchArea = r'D:\\gis\\VGI_CLASSFI\\CLS_BUILD\\lmt\\search_radius.shp'\n",
    "\n",
    "EPSG = 3763\n",
    "\n",
    "x, y, r = getBufferParam(searchArea, EPSG, outSRS=4326)\n",
    "\n",
    "d = search_places(y, x, r)"
   ]
  },
  {
   "cell_type": "code",
   "execution_count": null,
   "metadata": {},
   "outputs": [],
   "source": [
    "print d\n",
    "print d[0]['_json']"
   ]
  },
  {
   "cell_type": "code",
   "execution_count": null,
   "metadata": {},
   "outputs": [],
   "source": []
  }
 ],
 "metadata": {
  "kernelspec": {
   "display_name": "Python 2",
   "language": "python",
   "name": "python2"
  },
  "language_info": {
   "codemirror_mode": {
    "name": "ipython",
    "version": 2
   },
   "file_extension": ".py",
   "mimetype": "text/x-python",
   "name": "python",
   "nbconvert_exporter": "python",
   "pygments_lexer": "ipython2",
   "version": "2.7.14"
  }
 },
 "nbformat": 4,
 "nbformat_minor": 2
}
