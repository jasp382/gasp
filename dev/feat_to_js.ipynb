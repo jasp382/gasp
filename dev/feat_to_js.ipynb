{
 "cells": [
  {
   "cell_type": "code",
   "execution_count": 1,
   "metadata": {},
   "outputs": [],
   "source": [
    "from gasp3.gt.prop.feat import get_ext"
   ]
  },
  {
   "cell_type": "code",
   "execution_count": 2,
   "metadata": {},
   "outputs": [],
   "source": [
    "PATH_SHP = '/home/jasp/tejo_pnt2.shp'\n",
    "PATH__JS = '/home/jasp/tejo_pnt.js'"
   ]
  },
  {
   "cell_type": "code",
   "execution_count": 3,
   "metadata": {},
   "outputs": [],
   "source": [
    "# Get Extent\n",
    "\n",
    "left, right, bottom, top = get_ext(PATH_SHP)"
   ]
  },
  {
   "cell_type": "code",
   "execution_count": 4,
   "metadata": {},
   "outputs": [],
   "source": [
    "from osgeo import ogr\n",
    "import time\n",
    "import datetime\n",
    "\n",
    "dtSrc = ogr.GetDriverByName('ESRI Shapefile').Open(PATH_SHP)\n",
    "\n",
    "lyr = dtSrc.GetLayer()"
   ]
  },
  {
   "cell_type": "code",
   "execution_count": 5,
   "metadata": {},
   "outputs": [],
   "source": [
    "COORDINATES = []\n",
    "UNIX_TIMES  = []\n",
    "\n",
    "for feat in lyr:\n",
    "    __ID = feat.GetField('ID')\n",
    "    geom = feat.GetGeometryRef()\n",
    "    __XX = geom.GetX()\n",
    "    __YY = geom.GetY()\n",
    "    __TT = feat.GetField('HORA')\n",
    "    \n",
    "    hora, __min, seg = __TT.split(':')\n",
    "    dt = datetime.datetime(2019, 9, 5, int(hora), int(__min), int(seg))\n",
    "    \n",
    "    UNIX_TIMES.append(str(int(time.mktime(dt.timetuple()) * 1000)))\n",
    "    \n",
    "    COORDINATES.append([__XX, __YY])"
   ]
  },
  {
   "cell_type": "code",
   "execution_count": 6,
   "metadata": {},
   "outputs": [],
   "source": [
    "JS_CODE = \"\"\"\n",
    "var tejo = {{\n",
    "    \"type\" : \"Feature\",\n",
    "    \"geometry\" : {{\n",
    "        \"type\": \"MultiPoint\",\n",
    "        \"coordinates\" : [{}]\n",
    "    }},\n",
    "    \"properties\" : {{\n",
    "        \"title\" : \"tejo\",\n",
    "        \"path_options\" : {{ \"color\" : \"red\" }},\n",
    "        \"time\" : [{}]\n",
    "    }},\n",
    "    \"bbox\" : [\n",
    "        [{}, {}],\n",
    "        [{}, {}],\n",
    "        [{}, {}],\n",
    "        [{}, {}]\n",
    "    ]\n",
    "}};\n",
    "\n",
    "var demoTracks = [tejo];\n",
    "\"\"\".format(\n",
    "    \",\".join([\"[{}, {}]\".format(str(coord[0]), str(coord[1])) for coord in COORDINATES]),\n",
    "    \",\".join(UNIX_TIMES),\n",
    "    str(left), str(bottom), str(left), str(top),\n",
    "    str(right), str(top), str(right), str(bottom)\n",
    ").strip()\n",
    "\n",
    "with open(PATH__JS, 'a') as f:\n",
    "    f.write(JS_CODE)"
   ]
  }
 ],
 "metadata": {
  "kernelspec": {
   "display_name": "Python 3",
   "language": "python",
   "name": "python3"
  },
  "language_info": {
   "codemirror_mode": {
    "name": "ipython",
    "version": 3
   },
   "file_extension": ".py",
   "mimetype": "text/x-python",
   "name": "python",
   "nbconvert_exporter": "python",
   "pygments_lexer": "ipython3",
   "version": "3.6.8"
  }
 },
 "nbformat": 4,
 "nbformat_minor": 2
}
