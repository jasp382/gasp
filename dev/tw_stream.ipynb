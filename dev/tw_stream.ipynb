{
 "cells": [
  {
   "cell_type": "code",
   "execution_count": null,
   "metadata": {},
   "outputs": [],
   "source": [
    "from tweepy import Stream\n",
    "from tweepy import OAuthHandler\n",
    "from tweepy.streaming import StreamListener\n",
    "\n",
    "#consumer key, consumer secret, access token, access secret.\n",
    "TWITTER_TOKEN = {\n",
    "    'TOKEN'           : \"3571004715-NiOnRpRrQZVGpQFvgT2B5zYB6vm3ey01ZBk9QT9\",\n",
    "    'SECRET'          : \"WhKkqFzshpFLzRIsS9puPTVZZgKYWhOYcf8JPcAbBFKMI\",\n",
    "    'CONSUMER_KEY'    : \"zuDY4LEW37TCesUfObKMeMBPf\",\n",
    "    'CONSUMER_SECRET' : \"os60OvpWjb9TLW1ABaiZeRZy8QWcOfwknwYGLBgJOGBE5tQfrM\"\n",
    "}\n",
    "\n",
    "\n",
    "auth = OAuthHandler(\n",
    "    TWITTER_TOKEN['CONSUMER_KEY'],\n",
    "    TWITTER_TOKEN['CONSUMER_SECRET']\n",
    ")\n",
    "\n",
    "auth.set_access_token(TWITTER_TOKEN['TOKEN'], TWITTER_TOKEN['SECRET'])\n",
    "\n",
    "class listener(StreamListener):\n",
    "\n",
    "    def on_data(self, data):\n",
    "        print(data)\n",
    "        return(True)\n",
    "\n",
    "    def on_error(self, status):\n",
    "        print(status)\n",
    "\n",
    "twitterStream = Stream(auth, listener())\n",
    "twitterStream.filter(track=[\"car\"])"
   ]
  },
  {
   "cell_type": "code",
   "execution_count": null,
   "metadata": {},
   "outputs": [],
   "source": []
  }
 ],
 "metadata": {
  "kernelspec": {
   "display_name": "Python 3",
   "language": "python",
   "name": "python3"
  },
  "language_info": {
   "codemirror_mode": {
    "name": "ipython",
    "version": 3
   },
   "file_extension": ".py",
   "mimetype": "text/x-python",
   "name": "python",
   "nbconvert_exporter": "python",
   "pygments_lexer": "ipython3",
   "version": "3.7.3"
  }
 },
 "nbformat": 4,
 "nbformat_minor": 2
}
