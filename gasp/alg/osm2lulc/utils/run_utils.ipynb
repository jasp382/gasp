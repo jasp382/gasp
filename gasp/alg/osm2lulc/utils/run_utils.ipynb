{
 "cells": [
  {
   "cell_type": "code",
   "execution_count": null,
   "metadata": {},
   "outputs": [],
   "source": [
    "\"\"\"\n",
    "Use a file OSM to detect tags not considered in the\n",
    "OSM2LULC procedure\n",
    "\"\"\"\n",
    "\n",
    "# Parameters\n",
    "\n",
    "OSM_FILE    = r'D:\\indev\\OSM2LULC\\id_not_used_tags\\osm_15.xml'\n",
    "\n",
    "OUT_TBL = r'D:\\indev\\OSM2LULC\\id_not_used_tags\\new_tags.xlsx'\n",
    "\n",
    "from gasp.osm2lulc.utils.tags import get_not_used_tags\n",
    "\n",
    "get_not_used_tags(OSM_FILE, OUT_TBL)"
   ]
  },
  {
   "cell_type": "code",
   "execution_count": null,
   "metadata": {},
   "outputs": [],
   "source": []
  }
 ],
 "metadata": {
  "kernelspec": {
   "display_name": "Python 2",
   "language": "python",
   "name": "python2"
  },
  "language_info": {
   "codemirror_mode": {
    "name": "ipython",
    "version": 2
   },
   "file_extension": ".py",
   "mimetype": "text/x-python",
   "name": "python",
   "nbconvert_exporter": "python",
   "pygments_lexer": "ipython2",
   "version": "2.7.14"
  }
 },
 "nbformat": 4,
 "nbformat_minor": 2
}
