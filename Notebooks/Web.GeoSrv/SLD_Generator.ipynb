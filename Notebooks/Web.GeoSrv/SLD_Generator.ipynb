{
 "cells": [
  {
   "cell_type": "markdown",
   "metadata": {},
   "source": [
    "### Generate Style Layer Descriptor for a Raster Dataset ###"
   ]
  },
  {
   "cell_type": "code",
   "execution_count": null,
   "metadata": {},
   "outputs": [],
   "source": [
    "SYMBOLOGY_RULES = {\n",
    "    593.3 : {\"COLOR\" :(175, 240, 233), \"LABEL\" : \"310 - 593.3\", \"OPACITY\" : 0.95},\n",
    "    817.7 : {\"COLOR\" :(210, 232, 137), \"LABEL\" : \"593.4 - 817.3\", \"OPACITY\" : 0.95},\n",
    "    1034.7 : {\"COLOR\" :(100, 148, 52), \"LABEL\" : \"817.4 - 1034.7\", \"OPACITY\" : 0.95},\n",
    "    1245.5 : {\"COLOR\" :(189, 70, 2), \"LABEL\" : \"1034.8 - 1245.5\", \"OPACITY\" : 0.95},\n",
    "    1462.9 : {\"COLOR\" :(110, 37, 9), \"LABEL\" : \"1245.6 - 1462.9\", \"OPACITY\" : 0.95},\n",
    "    1673.8 : {\"COLOR\" :(163, 147, 137), \"LABEL\" : \"1463 - 1673.8\", \"OPACITY\" : 0.95},\n",
    "    1990 : {\"COLOR\" :(255, 252, 255), \"LABEL\" : \"1673.9 - 1990\", \"OPACITY\" : 0.95}\n",
    "}\n",
    "\n",
    "DATA_TYPE = \"FLOATING\"\n",
    "\n",
    "OUT_FILE = r'D:\\indev\\xyz\\sld_dem.sld'\n",
    "\n",
    "from gasp.ogcsld import write_raster_sld\n",
    "\n",
    "write_raster_sld(SYMBOLOGY_RULES, OUT_FILE, dataType=DATA_TYPE)"
   ]
  },
  {
   "cell_type": "markdown",
   "metadata": {},
   "source": [
    "### Table to Style Layer Descriptor for Feature Class ###"
   ]
  },
  {
   "cell_type": "code",
   "execution_count": null,
   "metadata": {},
   "outputs": [],
   "source": [
    "from gasp3.web.geosrv.sld import write_sld\n",
    "\n",
    "SYMBOLOGY_RULES = r'E:\\geotmlnh\\viewer\\cos2015\\cls_lvl2.dbf'\n",
    "\n",
    "#SYMBOLOGY_RULES = [{'cat' : 1, 'color' : '#d9d9d9', 'opacity' : 0.95, 'stroke_h' : '#000000'}]\n",
    "\n",
    "ATTR_NAME = 'cat'\n",
    "Geometry = 'Polygon'\n",
    "DATA = 'CATEGORICAL'\n",
    "ATTR_COLS = {'hex' : 'clr_hex', 'category' : 'codigo'}\n",
    "\n",
    "OUT_SLD = r'E:\\geotmlnh\\viewer\\cos2015\\cos_lvl2.sld'\n",
    "\n",
    "write_sld(ATTR_NAME, SYMBOLOGY_RULES, ATTR_COLS, OUT_SLD,\n",
    "          geometry=Geometry, DATA=DATA)"
   ]
  },
  {
   "cell_type": "code",
   "execution_count": null,
   "metadata": {},
   "outputs": [],
   "source": []
  }
 ],
 "metadata": {
  "kernelspec": {
   "display_name": "Python 3",
   "language": "python",
   "name": "python3"
  },
  "language_info": {
   "codemirror_mode": {
    "name": "ipython",
    "version": 3
   },
   "file_extension": ".py",
   "mimetype": "text/x-python",
   "name": "python",
   "nbconvert_exporter": "python",
   "pygments_lexer": "ipython3",
   "version": "3.7.3"
  }
 },
 "nbformat": 4,
 "nbformat_minor": 2
}
