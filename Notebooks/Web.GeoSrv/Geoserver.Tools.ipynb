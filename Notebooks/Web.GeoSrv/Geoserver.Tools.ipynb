{
 "cells": [
  {
   "cell_type": "code",
   "execution_count": null,
   "metadata": {},
   "outputs": [],
   "source": [
    "\"\"\"\n",
    "ESRI Shapefile to Store\n",
    "\"\"\"\n",
    "\n",
    "from gasp.web.geosrv.stores import shp_to_store\n",
    "\n",
    "in_shp = '/mnt/d/gwork/tstgsrv/pnt_flainar.shp'\n",
    "store_name = 'pontos_viseu'\n",
    "workspace  = 'tstflainar'\n",
    "\n",
    "r = shp_to_store(in_shp, store_name, workspace)"
   ]
  },
  {
   "cell_type": "code",
   "execution_count": null,
   "metadata": {},
   "outputs": [],
   "source": [
    "from gasp.geosrv.migration import pgtables_to_layer_withStyle_by_col\n",
    "\n",
    "TABLES   = ['atlas_municipios']\n",
    "SLD_DATA = r'D:\\gis\\DADOS_JUSTSIDE\\map_migration_geosrv.xlsx'\n",
    "PGSQL_CON = {\n",
    "    'HOST' : 'localhost', 'USER' : 'postgres', 'PORT' : '5432',\n",
    "    'PASSWORD' : 'admin', 'DATABASE' : 'justside_db'\n",
    "}\n",
    "\n",
    "WORKSPACE  = 'justside'\n",
    "GEOSRV_CON = {\n",
    "    'HOST' : 'localhost', 'USER' : 'admin', 'PORT' : '8888',\n",
    "    'PASSWORD' : 'geoserver'\n",
    "}\n",
    "\n",
    "COLS_EXCLUDE = ['fid', 'geocod', 'geom', 'statunit']\n",
    "\n",
    "PATH_SLDS = r'D:\\gis-senpy\\justside'\n",
    "\n",
    "pgtables_to_layer_withStyle_by_col(\n",
    "    TABLES, SLD_DATA, PGSQL_CON, workName=WORKSPACE, geoserver_con=GEOSRV_CON,\n",
    "    exclude_cols=COLS_EXCLUDE, pathToSLDfiles=PATH_SLDS\n",
    ")"
   ]
  },
  {
   "cell_type": "code",
   "execution_count": null,
   "metadata": {},
   "outputs": [],
   "source": [
    "\"\"\"\n",
    "Add Raster Layer to GeoServer\n",
    "\"\"\"\n",
    "\n",
    "from gasp3.web.geosrv.ws import create_workspace\n",
    "from gasp.geosrv.stores import add_rst_store\n",
    "from gasp.geosrv.lyrs import pub_rst_lyr\n",
    "\n",
    "GEOSRV_CON = {\n",
    "    'HOST' : 'localhost', 'USER' : 'admin', 'PORT' : '8888',\n",
    "    'PASSWORD' : 'geoserver'\n",
    "}\n",
    "\n",
    "WORKSPACE = \"tst_ruru\"\n",
    "STORE_NAME = \"tst_img\"\n",
    "RASTER_FILE = r\"D:\\gis\\cw_data_ruicruz\\multibnd.tif\"\n",
    "\n",
    "create_workspace(WORKSPACE, conf=GEOSRV_CON)\n",
    "add_rst_store(RASTER_FILE, STORE_NAME, WORKSPACE, conf=GEOSRV_CON)\n",
    "pub_rst_lyr(\"multiband\", STORE_NAME, WORKSPACE, 32629, conf=GEOSRV_CON)"
   ]
  },
  {
   "cell_type": "code",
   "execution_count": null,
   "metadata": {},
   "outputs": [],
   "source": []
  }
 ],
 "metadata": {
  "kernelspec": {
   "display_name": "Python 3",
   "language": "python",
   "name": "python3"
  },
  "language_info": {
   "codemirror_mode": {
    "name": "ipython",
    "version": 3
   },
   "file_extension": ".py",
   "mimetype": "text/x-python",
   "name": "python",
   "nbconvert_exporter": "python",
   "pygments_lexer": "ipython3",
   "version": "3.6.9"
  }
 },
 "nbformat": 4,
 "nbformat_minor": 2
}
