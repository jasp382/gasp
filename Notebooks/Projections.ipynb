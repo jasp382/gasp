{
 "cells": [
  {
   "cell_type": "code",
   "execution_count": null,
   "metadata": {},
   "outputs": [],
   "source": [
    "\"\"\"\n",
    "Project Feature Class\n",
    "\"\"\"\n",
    "\n",
    "inShp   = r'C:\\gwork\\fireloc\\datasets\\mdt_m888\\alti_pt_25k.shp'\n",
    "outShp  = r'C:\\gwork\\fireloc\\datasets\\mdt_m888\\alti_pt25k_3763.shp'\n",
    "outEpsg = 3763\n",
    "\n",
    "from gasp3.gt.prj import proj\n",
    "\n",
    "proj(inShp, outShp, outEpsg, gisApi='ogr2ogr', con_psql=None)"
   ]
  },
  {
   "cell_type": "code",
   "execution_count": null,
   "metadata": {},
   "outputs": [],
   "source": []
  }
 ],
 "metadata": {
  "kernelspec": {
   "display_name": "Python 3",
   "language": "python",
   "name": "python3"
  },
  "language_info": {
   "codemirror_mode": {
    "name": "ipython",
    "version": 3
   },
   "file_extension": ".py",
   "mimetype": "text/x-python",
   "name": "python",
   "nbconvert_exporter": "python",
   "pygments_lexer": "ipython3",
   "version": "3.7.3"
  }
 },
 "nbformat": 4,
 "nbformat_minor": 2
}
