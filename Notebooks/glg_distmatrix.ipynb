{
 "cells": [
  {
   "cell_type": "markdown",
   "metadata": {},
   "source": [
    "# Google Maps API - Produção de matrizes de distância entre pontos #\n",
    "\n",
    "O programa \"dist_matrix_using_shp\" utiliza a Google Maps API para calcular a distância entre um conjunto de origens e de destino, guardando o resultado numa nova tabela.\n",
    "\n",
    "### Parâmetros de entrada: ###\n",
    "\n",
    "* **SHP_ORIGENS** -> Caminho absoluto para uma _Feature_ _Class_ do tipo ponto - estes pontos representam as origens na matriz OD que será gerada;\n",
    "\n",
    "* **SHP_DESTINOS** -> Caminho absoluto para uma _Feature_ _Class_ do tipo ponto - estes pontos representam os destinos na matriz OD que será gerada;\n",
    "\n",
    "* **SRS_ORIGENS** -> Código EPSG do Sistema de Referência Espacial do tema **SHP_ORIGENS**;\n",
    "\n",
    "* **SRS_DESTINOS** -> Código EPSG do Sistema de Referência Espacial do tema **SHP_DESTINOS**;\n",
    "\n",
    "* **SHP_SAIDA** -> Caminho absoluto para a _Feature_ _Class_ de saída;\n",
    "\n",
    "* **MODO_TRANSPORTE** -> Modo de transporte a considerar no cálculo das impedâncias (ver https://developers.google.com/maps/documentation/distance-matrix/intro#travel_modes para identificar as opções disponíveis).\n",
    "\n",
    "### Dependências: ###\n",
    "\n",
    "* **Python Packages**:\n",
    "    * urllib2;\n",
    "    * Shapely;\n",
    "    * Proj4;\n",
    "    * Fiona;\n",
    "    * Pandas;\n",
    "    * GeoPandas."
   ]
  },
  {
   "cell_type": "code",
   "execution_count": null,
   "metadata": {},
   "outputs": [],
   "source": [
    "from gasp.pnd.netanlst.glg.dmx import dist_matrix_using_shp\n",
    "\n",
    "SHP_ORIGENS     = r'C:\\gis\\MOD_ACCESS\\TST_092018\\ex1\\origins_parts\\lugares_0.shp'\n",
    "SHP_DESTINOS    = r'C:\\gis\\MOD_ACCESS\\TST_092018\\ex1\\psp.shp'\n",
    "SRS_ORIGENS     = 3763\n",
    "SRS_DESTINOS    = 3763\n",
    "SHP_SAIDA       = r'C:\\gis\\MOD_ACCESS\\TST_092018\\ex1\\glg_matrix_0.xlsx'\n",
    "MODO_TRANSPORTE = \"driving\"\n",
    "\n",
    "dist_matrix_using_shp(\n",
    "    SHP_ORIGENS, SHP_DESTINOS, SRS_ORIGENS, SRS_DESTINOS,\n",
    "    SHP_SAIDA, transMode=MODO_TRANSPORTE\n",
    ")"
   ]
  },
  {
   "cell_type": "code",
   "execution_count": null,
   "metadata": {},
   "outputs": [],
   "source": [
    "from gasp.pnd.netanlst.glg.dmx import dist_matrix_by_shp\n",
    "\n",
    "l = [7, 8, 9, 10, 11, 12, 13, 14, 15]\n",
    "\n",
    "SHP_ORIGENS     = r'C:\\gis\\MOD_ACCESS\\APIvsSIG_092018\\ex1\\partes_origens\\lugares_{}.shp'\n",
    "SHP_DESTINOS    = r'C:\\gis\\MOD_ACCESS\\APIvsSIG_092018\\ex1\\psp.shp'\n",
    "SRS_ORIGENS     = 3763\n",
    "SRS_DESTINOS    = 3763\n",
    "SHP_SAIDA       = r'C:\\gis\\MOD_ACCESS\\APIvsSIG_092018\\ex1\\google\\glg_matrix_{}.xlsx'\n",
    "MODO_TRANSPORTE = \"driving\"\n",
    "\n",
    "for i in l:\n",
    "    result = dist_matrix_by_shp(\n",
    "        SHP_ORIGENS.format(str(i)), SHP_DESTINOS, SRS_ORIGENS, SRS_DESTINOS,\n",
    "        SHP_SAIDA.format(str(i)), transMode=MODO_TRANSPORTE\n",
    "    )"
   ]
  },
  {
   "cell_type": "code",
   "execution_count": null,
   "metadata": {},
   "outputs": [],
   "source": []
  }
 ],
 "metadata": {
  "kernelspec": {
   "display_name": "Python 2",
   "language": "python",
   "name": "python2"
  },
  "language_info": {
   "codemirror_mode": {
    "name": "ipython",
    "version": 2
   },
   "file_extension": ".py",
   "mimetype": "text/x-python",
   "name": "python",
   "nbconvert_exporter": "python",
   "pygments_lexer": "ipython2",
   "version": "2.7.12"
  }
 },
 "nbformat": 4,
 "nbformat_minor": 2
}
