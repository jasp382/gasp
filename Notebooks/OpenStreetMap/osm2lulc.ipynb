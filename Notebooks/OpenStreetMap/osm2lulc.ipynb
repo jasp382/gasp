{
 "cells": [
  {
   "cell_type": "markdown",
   "metadata": {},
   "source": [
    "# Download OSM Data #\n",
    "\n",
    "### Parameters: ###\n",
    "\n",
    "**INTEREST_AREA** - Extent of your interest area. Could be a path to a file (e.g. ESRI Shapefile or KML), a dict or a list:\n",
    "\n",
    "```Python\n",
    "# If it is a Dict\n",
    "INTEREST_AREA = {'top' : 40.01, 'bottom' : 39.99, 'left' : -8.00, 'right': -7.99}\n",
    "\n",
    "# OR if it is a List\n",
    "# The list order should be: left; right; bottom; top\n",
    "INTEREST_AREA = [-8.00, -7.99, 39.99, 40.01]\n",
    "\n",
    "# OR if it is a File\n",
    "INTEREST_AREA = '/path/to/yourboundary.shp'\n",
    "```\n",
    "\n",
    "**OSMDATA** - Path to the output file that will have OSM Data available in the Interest Area;\n",
    "\n",
    "**EPSG** - EPSG Code of the Spatial Reference System of INTEREST_AREA."
   ]
  },
  {
   "cell_type": "code",
   "execution_count": null,
   "metadata": {},
   "outputs": [],
   "source": [
    "from gasp3.gt.to.osm import download_by_boundary\n",
    "\n",
    "INTEREST_AREA = '/home/jasp/todo/osm2lulc/lmt/shp/lisboa_10x10.shp'\n",
    "OSMDATA       = '/home/jasp/todo/osm2lulc/lisboa.xml'\n",
    "EPSG          = 3857\n",
    "\n",
    "download_by_boundary(INTEREST_AREA, OSMDATA, EPSG, GetUrl=None)"
   ]
  },
  {
   "cell_type": "markdown",
   "metadata": {},
   "source": [
    "# OSM2LULC #\n",
    "\n",
    "### Parameters ###\n",
    "\n",
    "**NOMENCLATURE** - LULC classes nomenclature for output LULC map\n",
    "\n",
    "```Python\n",
    "# The options are:\n",
    "# Urban Atlas\n",
    "NOMENCLATURE = \"URBAN_ATLAS\"\n",
    "\n",
    "# Corine Land Cover\n",
    "NOMENCLATURE = \"CORINE_LAND_COVER\"\n",
    "\n",
    "# GLobe Land Cover\n",
    "NOMENCLATURE = \"GLOBE_LAND_30\"\n",
    "```\n",
    "\n",
    "**OSMDATA** - Path to file with raw OpenStreetMap data.\n",
    "\n",
    "**INTEREST_AREA** - Extent of your interest area. It must be a Feature Class (.shp, .gml, .json) or a Raster File (.tif, .img).\n",
    "\n",
    "The result will have the same geographic extent of INTEREST_AREA file.\n",
    "\n",
    "<b>If you only have the coordinates of your bounding box, you can use the last cell in this file (\"Generate bounding box file\") to generate a file with the extent of your bounding box.\n",
    "\n",
    "If you are using your own bounding box file and you are experiencing some kind of problem, please use the \"Generate bounding box file\" cell.\n",
    "</b>\n",
    "\n",
    "When using Versions 1.3 and 1.4, if INTEREST_AREA is a Raster, the cellsize of the output will be the same of this file. If INTEREST_AREA is not a Raster, the cellsize will be of 2 meters.\n",
    "\n",
    "**LULC_RESULT** - Path to result\n",
    "\n",
    "**DATA_FOLDER** - Path to folder where the temporary files will be stored"
   ]
  },
  {
   "cell_type": "code",
   "execution_count": null,
   "metadata": {},
   "outputs": [],
   "source": [
    "import os \n",
    "\n",
    "NOMENCLATURE = \"URBAN_ATLAS\"\n",
    "OSMDATA      = '/home/gisuser/osm_sjEoIn1.xml'\n",
    "REF_RASTER   = '/home/gisuser/ref_sjEoIn1.tif'\n",
    "LULC_RESULT  = '/home/gisuser/result.tif'\n",
    "DATA_STORE   = '/home/gisuser/lisbon_debug'"
   ]
  },
  {
   "cell_type": "markdown",
   "metadata": {},
   "source": [
    "### OSM2LULC - Version 1.1 ###\n",
    "\n",
    "**Dependencies**: GRASS GIS; GDAL/OGR; GeoPandas."
   ]
  },
  {
   "cell_type": "code",
   "execution_count": null,
   "metadata": {},
   "outputs": [],
   "source": [
    "from gasp.osm2lulc.grs   import vector_based\n",
    "from gasp.osm2lulc.utils import record_time_consumed\n",
    "import datetime\n",
    "from gasp.oss import get_filename\n",
    "\n",
    "time_a = datetime.datetime.now().replace(microsecond=0)\n",
    "\n",
    "# Run OSM2LULC\n",
    "lulcSHP, timeCheck = vector_based(\n",
    "    OSMDATA, NOMENCLATURE, REF_RASTER, LULC_RESULT,\n",
    "    overwrite=True, dataStore=DATA_STORE,\n",
    "    RoadsAPI=\"GRASS\"\n",
    ")\n",
    "\n",
    "time_b = datetime.datetime.now().replace(microsecond=0)\n",
    "\n",
    "# Record time consumed in xlsx table\n",
    "record_time_consumed(timeCheck, os.path.join(\n",
    "    os.path.dirname(LULC_RESULT), get_filename(LULC_RESULT) + '.xlsx'\n",
    "))\n",
    "\n",
    "print time_b - time_a"
   ]
  },
  {
   "cell_type": "markdown",
   "metadata": {},
   "source": [
    "### OSM2LULC - Version 1.2 ###\n",
    "\n",
    "**Dependencies**: GRASS GIS; GDAL/OGR; PostGIS; GeoPandas."
   ]
  },
  {
   "cell_type": "code",
   "execution_count": null,
   "metadata": {},
   "outputs": [],
   "source": [
    "from gasp.osm2lulc.grs   import vector_based\n",
    "from gasp.osm2lulc.utils import record_time_consumed\n",
    "import datetime\n",
    "import os\n",
    "from gasp.oss import get_filename\n",
    "\n",
    "time_a = datetime.datetime.now().replace(microsecond=0)\n",
    "\n",
    "# Run OSM2LULC\n",
    "lulcSHP, timeCheck = vector_based(\n",
    "    OSMDATA, NOMENCLATURE, REF_RASTER, LULC_RESULT,\n",
    "    overwrite=True, dataStore=DATA_STORE,\n",
    "    RoadsAPI='POSTGIS'\n",
    ")\n",
    "\n",
    "time_b = datetime.datetime.now().replace(microsecond=0)\n",
    "\n",
    "# Record time consumed in xlsx table\n",
    "record_time_consumed(timeCheck, os.path.join(\n",
    "    os.path.dirname(LULC_RESULT), get_filename(LULC_RESULT) + '.xlsx'\n",
    "))\n",
    "\n",
    "print time_b - time_a"
   ]
  },
  {
   "cell_type": "markdown",
   "metadata": {},
   "source": [
    "### OSM2LULC - Version 1.3 ###\n",
    "\n",
    "**Dependencies**: GRASS GIS; GDAL/OGR; PostGIS."
   ]
  },
  {
   "cell_type": "code",
   "execution_count": null,
   "metadata": {},
   "outputs": [],
   "source": [
    "from gasp3.alg.osm2lulc.grs   import raster_based\n",
    "from gasp3.alg.osm2lulc.utils import record_time_consumed\n",
    "import datetime\n",
    "from gasp3.pyt.oss import get_filename\n",
    "\n",
    "time_a = datetime.datetime.now().replace(microsecond=0)\n",
    "\n",
    "# Run OSM2LULC\n",
    "result, timeCheck = raster_based(\n",
    "    OSMDATA, NOMENCLATURE, REF_RASTER, LULC_RESULT,\n",
    "    overwrite=True, dataStore=DATA_STORE\n",
    ")\n",
    "\n",
    "time_b = datetime.datetime.now().replace(microsecond=0)\n",
    "\n",
    "# Record time consumed in xlsx table\n",
    "record_time_consumed(timeCheck, os.path.join(\n",
    "    os.path.dirname(LULC_RESULT), get_filename(LULC_RESULT) + '.xlsx'\n",
    "))\n",
    "\n",
    "print(time_b - time_a)"
   ]
  },
  {
   "cell_type": "markdown",
   "metadata": {},
   "source": [
    "### OSM2LULC - Version 1.4 ###\n",
    "\n",
    "**Dependencies**: GDAL/OGR; PostGIS; Numpy."
   ]
  },
  {
   "cell_type": "code",
   "execution_count": null,
   "metadata": {},
   "outputs": [],
   "source": [
    "import datetime\n",
    "from gasp3.alg.osm2lulc.num   import osm2lulc\n",
    "from gasp3.alg.osm2lulc.utils import record_time_consumed\n",
    "from gasp3.pyt.oss            import get_filename\n",
    "\n",
    "time_a = datetime.datetime.now().replace(microsecond=0)\n",
    "\n",
    "# Run OSM2LULC\n",
    "result, timeobj = osm2lulc(\n",
    "    OSMDATA, NOMENCLATURE, REF_RASTER, LULC_RESULT,\n",
    "    overwrite=True, dataStore=DATA_STORE\n",
    ")\n",
    "\n",
    "time_b = datetime.datetime.now().replace(microsecond=0)\n",
    "\n",
    "# Record time consumed in xlsx table\n",
    "record_time_consumed(timeobj, os.path.join(\n",
    "    os.path.dirname(LULC_RESULT), get_filename(LULC_RESULT) + '.xlsx'\n",
    "))\n",
    "\n",
    "print(time_b - time_a)"
   ]
  },
  {
   "cell_type": "markdown",
   "metadata": {},
   "source": [
    "### Generate your Bounding Box file ###"
   ]
  },
  {
   "cell_type": "code",
   "execution_count": null,
   "metadata": {},
   "outputs": [],
   "source": [
    "import os\n",
    "from gasp.to.shp.ext import coords_to_boundary\n",
    "from gasp.to.rst.ext import shpext_to_rst\n",
    "\n",
    "TOP_LEFT_COORDS    = (-31.572932, 40.0757) # (MIN_X, MAX_Y)\n",
    "LOWER_RIGHT_COORDS = (-24.71814, 36.67791) # (MAX_X, MIN_Y)\n",
    "EPSG               = 4326\n",
    "RESULT             = '/home/gisuser/xpto/osmsampledata/azores2.kml'\n",
    "\n",
    "coords_to_boundary(TOP_LEFT_COORDS, LOWER_RIGHT_COORDS, EPSG, RESULT)"
   ]
  },
  {
   "cell_type": "code",
   "execution_count": null,
   "metadata": {},
   "outputs": [],
   "source": []
  }
 ],
 "metadata": {
  "kernelspec": {
   "display_name": "Python 3",
   "language": "python",
   "name": "python3"
  },
  "language_info": {
   "codemirror_mode": {
    "name": "ipython",
    "version": 3
   },
   "file_extension": ".py",
   "mimetype": "text/x-python",
   "name": "python",
   "nbconvert_exporter": "python",
   "pygments_lexer": "ipython3",
   "version": "3.7.3"
  }
 },
 "nbformat": 4,
 "nbformat_minor": 2
}
