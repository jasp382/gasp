{
 "cells": [
  {
   "cell_type": "markdown",
   "metadata": {},
   "source": [
    "# Clip OSMFile using OSMOSIS\n",
    "\n",
    "This method uses OSMOSIS to get an OSM extract from a big OSM File\n",
    "\n",
    "### Parameters: ###\n",
    "\n",
    "**INTEREST_AREA** - Extent of your interest area. Could be a path to a file (e.g. ESRI Shapefile or KML), a wkt string, or a list with wkt strings:\n",
    "\n",
    "```Python\n",
    "# If it is WKT\n",
    "INTEREST_AREA = \"POLYGON ((30 10, 40 40, 20 40, 10 20, 30 10))\"\n",
    "\n",
    "# OR if it is a List of WKT\n",
    "# The list order should be: left; right; bottom; top\n",
    "INTEREST_AREA = [\"POLYGON ((30 10, 40 40, 20 40, 10 20, 30 10))\", \"POLYGON ((15 5, 20 20, 10 20, 5 10, 15 5))\"]\n",
    "\n",
    "# OR if it is a File\n",
    "INTEREST_AREA = '/path/to/yourboundary.shp'\n",
    "```\n",
    "\n",
    "**OSMDATA** - Path to the output file that will have OSM Data available in the Interest Area;\n",
    "\n",
    "**EPSG** - EPSG Code of the Spatial Reference System of INTEREST_AREA."
   ]
  },
  {
   "cell_type": "code",
   "execution_count": null,
   "metadata": {},
   "outputs": [],
   "source": [
    "from gasp.gt.gop.osm.ovly import osm_extraction\n",
    "\n",
    "INTEREST_AREA = '/home/gisuser/gasp_data_sample/osm2lulc/amsterdam.shp'\n",
    "OSM_FILE      = '/home/gisuser/gasp_data_sample/osm2lulc/netherlands-latest.osm.pbf'\n",
    "OSM_EXTRACT   = '/home/gisuser/gasp_data_sample/osm2lulc/osm_amsterdam.xml'\n",
    "\n",
    "osm_extraction(INTEREST_AREA, OSM_FILE, OSM_EXTRACT)"
   ]
  },
  {
   "cell_type": "code",
   "execution_count": null,
   "metadata": {},
   "outputs": [],
   "source": [
    "INTEREST_AREA = '/home/gisuser/gasp_data_sample/osm2lulc/amsterdam.shp'\n",
    "\n",
    "from gasp.gt.prop.feat import get_ext\n",
    "from gasp.g.to         import create_polygon\n",
    "from gasp.g.prj import prj_ogrgeom\n",
    "import pyproj\n",
    "from shapely.wkt import loads\n",
    "from osgeo import ogr\n",
    "from shapely.ops import transform\n",
    "\n",
    "left, right, bottom, top = get_ext(INTEREST_AREA)\n",
    "b = create_polygon([\n",
    "    (left, top), (right, top), (right, bottom),\n",
    "    (left, bottom), (left, top)\n",
    "])\n",
    "\n",
    "shpgeom = loads(b.ExportToWkt())\n",
    "\n",
    "srs_in = pyproj.Proj('epsg:3857')\n",
    "srs_ou = pyproj.Proj('epsg:4326')\n",
    "\n",
    "proj = pyproj.Transformer.from_proj(srs_in, srs_ou, always_xy=True).transform\n",
    "prjgeom = transform(proj, shpgeom)\n",
    "\n",
    "newg = ogr.CreateGeometryFromWkt(prjgeom.wkt)\n",
    "\n",
    "#tst = prj_ogrgeom(b, 3857, 4326, api='shapely')\n",
    "print(newg.GetEnvelope())"
   ]
  },
  {
   "cell_type": "code",
   "execution_count": null,
   "metadata": {},
   "outputs": [],
   "source": [
    "INTEREST_AREA = '/home/gisuser/gasp_data_sample/osm2lulc/amsterdam.shp'\n",
    "\n",
    "\n",
    "\n"
   ]
  },
  {
   "cell_type": "markdown",
   "metadata": {},
   "source": [
    "# Convert OSM data into Feature Class #"
   ]
  },
  {
   "cell_type": "code",
   "execution_count": null,
   "metadata": {},
   "outputs": [],
   "source": [
    "from gasp.gt.to.shp import osm_to_featcls\n",
    "\n",
    "osm_to_featcls(\n",
    "    '/home/jasp/flainar/portugal-latest.osm.pbf',\n",
    "    '/home/jasp/flainar/', useXmlName=True, outepsg=32629)"
   ]
  },
  {
   "cell_type": "markdown",
   "metadata": {},
   "source": [
    "### OSM File to PSQL DB ###"
   ]
  },
  {
   "cell_type": "code",
   "execution_count": null,
   "metadata": {},
   "outputs": [],
   "source": [
    "from gasp3.sql.to import osm_to_pgsql\n",
    "\n",
    "conDB = {\n",
    "    'HOST' : 'localhost', 'PORT' : '5433', 'USER' : 'postgres',\n",
    "    'PASSWORD' : 'admin', 'DATABASE' : 'flainar_db'\n",
    "}\n",
    "\n",
    "inOsm = '/home/jasp/flainar/osm_centro.xml'\n",
    "\n",
    "osm_to_pgsql(inOsm, conDB)"
   ]
  },
  {
   "cell_type": "markdown",
   "metadata": {},
   "source": [
    "# OSM File to Relation Sctruture: #"
   ]
  },
  {
   "cell_type": "code",
   "execution_count": null,
   "metadata": {},
   "outputs": [],
   "source": [
    "from gasp3.sql.to.osm import osm_to_relationaldb\n",
    "\n",
    "conDB = {\n",
    "    'HOST' : 'localhost', 'PORT' : '5433', 'USER' : 'postgres',\n",
    "    'PASSWORD' : 'admin', 'DATABASE' : 'flainar_osm',\n",
    "    'TEMPLATE' : 'postgis_template'\n",
    "}\n",
    "\n",
    "inOsm = '/home/jasp/flainar/osm_centro.xml'\n",
    "\n",
    "inSchema = {\n",
    "    \"TBL\" : 'points', 'FID' : 'ogc_fid',\n",
    "    \"COLS\" : [\n",
    "        'name', 'osm_id',\n",
    "        \"ST_X(wkb_geometry) AS longitude\",\n",
    "        \"ST_Y(wkb_geometry) AS latitude\",\n",
    "        \"wkb_geometry AS geom\",\n",
    "        \"NULL AS featurecategoryid\",\n",
    "        \"NULL AS flainarcategoryid\",\n",
    "        \"NULL AS createdby\",\n",
    "        \"NOW() AS createdon\",\n",
    "        \"NULL AS updatedon\",\n",
    "        \"NULL AS deletedon\"\n",
    "    ],\n",
    "    \"NOT_KEYS\" : [\n",
    "        'ogc_fid', 'osm_id', 'name', \"wkb_geometry\",\n",
    "        'healthcare2', 'other_tags'\n",
    "    ]\n",
    "}\n",
    "\n",
    "osmGeoTbl = {\"TBL\" : 'position', \"FID\" : 'positionid'}\n",
    "\n",
    "osmCatTbl = {\n",
    "    \"TBL\" : 'osmcategory', \"FID\" : \"osmcategoryid\",\n",
    "    \"KEY_COL\" : \"keycategory\", \"VAL_COL\" : \"value\",\n",
    "    \"COLS\" : [\n",
    "        \"NULL AS createdby\", \"NOW() AS createdon\",\n",
    "        \"NULL AS updatedon\", \"NULL AS deletedon\"\n",
    "    ]\n",
    "}\n",
    "\n",
    "osmRelTbl = {\n",
    "    \"TBL\" : \"position_osmcat\", \"FID\" : 'pososmcatid'\n",
    "}\n",
    "\n",
    "outsql = '/home/jasp/flainar/flainar_osm.sql'\n",
    "osm_to_relationaldb(conDB, inOsm, inSchema, osmGeoTbl, osmCatTbl, osmRelTbl, outSQL=outsql)"
   ]
  },
  {
   "cell_type": "code",
   "execution_count": null,
   "metadata": {},
   "outputs": [],
   "source": []
  }
 ],
 "metadata": {
  "kernelspec": {
   "display_name": "Python 3",
   "language": "python",
   "name": "python3"
  },
  "language_info": {
   "codemirror_mode": {
    "name": "ipython",
    "version": 3
   },
   "file_extension": ".py",
   "mimetype": "text/x-python",
   "name": "python",
   "nbconvert_exporter": "python",
   "pygments_lexer": "ipython3",
   "version": "3.6.9"
  }
 },
 "nbformat": 4,
 "nbformat_minor": 2
}
