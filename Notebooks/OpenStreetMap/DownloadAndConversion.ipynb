{
 "cells": [
  {
   "cell_type": "markdown",
   "metadata": {},
   "source": [
    "# Download OSM Data from Web #\n",
    "\n",
    "This method uses de OSM Overpass API to get OSM data from the Web"
   ]
  },
  {
   "cell_type": "code",
   "execution_count": null,
   "metadata": {},
   "outputs": [],
   "source": [
    "from gasp3.adv.osm import download_by_boundary\n",
    "\n",
    "inBoundary = r'F:\\rs_dez\\lmt\\lmt_ua12_ext.shp'\n",
    "outOsm = r'F:\\rs_dez\\osmdata\\osm_coimbra.xml'\n",
    "\n",
    "EPSG = None\n",
    "\n",
    "download_by_boundary(inBoundary, outOsm, EPSG, GetUrl=None)"
   ]
  },
  {
   "cell_type": "markdown",
   "metadata": {},
   "source": [
    "# Convert OSM data into Feature Class #"
   ]
  },
  {
   "cell_type": "code",
   "execution_count": 1,
   "metadata": {},
   "outputs": [
    {
     "data": {
      "text/plain": [
       "'F:\\\\rs_dez\\\\osmdata'"
      ]
     },
     "execution_count": 1,
     "metadata": {},
     "output_type": "execute_result"
    }
   ],
   "source": [
    "from gasp3.gt.to.shp import osm_to_featcls\n",
    "\n",
    "osm_to_featcls(\n",
    "    r'F:\\rs_dez\\osmdata\\osm_coimbra.xml',\n",
    "    r'F:\\rs_dez\\osmdata', useXmlName=True, outepsg=32629)"
   ]
  },
  {
   "cell_type": "code",
   "execution_count": null,
   "metadata": {},
   "outputs": [],
   "source": []
  }
 ],
 "metadata": {
  "kernelspec": {
   "display_name": "Python 3",
   "language": "python",
   "name": "python3"
  },
  "language_info": {
   "codemirror_mode": {
    "name": "ipython",
    "version": 3
   },
   "file_extension": ".py",
   "mimetype": "text/x-python",
   "name": "python",
   "nbconvert_exporter": "python",
   "pygments_lexer": "ipython3",
   "version": "3.7.3"
  }
 },
 "nbformat": 4,
 "nbformat_minor": 2
}
