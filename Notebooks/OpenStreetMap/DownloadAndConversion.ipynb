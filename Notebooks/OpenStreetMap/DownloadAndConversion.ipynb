{
 "cells": [
  {
   "cell_type": "markdown",
   "metadata": {},
   "source": [
    "# Download OSM Data from Web #\n",
    "\n",
    "This method uses de OSM Overpass API to get OSM data from the Web"
   ]
  },
  {
   "cell_type": "code",
   "execution_count": null,
   "metadata": {},
   "outputs": [],
   "source": [
    "from gasp3.gt.to.osm import download_by_boundary\n",
    "\n",
    "inBoundary = '/home/jasp/flainar/lmt_centro.shp'\n",
    "outFolder  = '/home/jasp/flainar'\n",
    "outName    = 'osm_centro'\n",
    "\n",
    "EPSG = 3763\n",
    "\n",
    "download_by_boundary(\n",
    "    inBoundary, outFolder, outName, EPSG,\n",
    "    GetUrl=True, conPSQL=None, geomCol=None,\n",
    "    justOneFeature=None\n",
    ")"
   ]
  },
  {
   "cell_type": "markdown",
   "metadata": {},
   "source": [
    "# Convert OSM data into Feature Class #"
   ]
  },
  {
   "cell_type": "code",
   "execution_count": null,
   "metadata": {},
   "outputs": [],
   "source": [
    "from gasp3.gt.to.shp import osm_to_featcls\n",
    "\n",
    "osm_to_featcls(\n",
    "    '/home/jasp/flainar/portugal-latest.osm.pbf',\n",
    "    '/home/jasp/flainar/', useXmlName=True, outepsg=32629)"
   ]
  },
  {
   "cell_type": "markdown",
   "metadata": {},
   "source": [
    "### OSM File to PSQL DB ###"
   ]
  },
  {
   "cell_type": "code",
   "execution_count": null,
   "metadata": {},
   "outputs": [],
   "source": [
    "from gasp3.sql.to import osm_to_pgsql\n",
    "\n",
    "conDB = {\n",
    "    'HOST' : 'localhost', 'PORT' : '5433', 'USER' : 'postgres',\n",
    "    'PASSWORD' : 'admin', 'DATABASE' : 'flainar_db'\n",
    "}\n",
    "\n",
    "inOsm = '/home/jasp/flainar/osm_centro.xml'\n",
    "\n",
    "osm_to_pgsql(inOsm, conDB)"
   ]
  },
  {
   "cell_type": "markdown",
   "metadata": {},
   "source": [
    "# OSM File to Relation Sctruture: #"
   ]
  },
  {
   "cell_type": "code",
   "execution_count": null,
   "metadata": {},
   "outputs": [],
   "source": [
    "from gasp3.sql.to.osm import osm_to_relationaldb\n",
    "\n",
    "conDB = {\n",
    "    'HOST' : 'localhost', 'PORT' : '5433', 'USER' : 'postgres',\n",
    "    'PASSWORD' : 'admin', 'DATABASE' : 'flainar_osm',\n",
    "    'TEMPLATE' : 'postgis_template'\n",
    "}\n",
    "\n",
    "inOsm = '/home/jasp/flainar/osm_centro.xml'\n",
    "\n",
    "inSchema = {\n",
    "    \"TBL\" : 'points', 'FID' : 'ogc_fid',\n",
    "    \"COLS\" : [\n",
    "        'name', 'osm_id',\n",
    "        \"ST_X(wkb_geometry) AS longitude\",\n",
    "        \"ST_Y(wkb_geometry) AS latitude\",\n",
    "        \"wkb_geometry AS geom\",\n",
    "        \"NULL AS featurecategoryid\",\n",
    "        \"NULL AS flainarcategoryid\",\n",
    "        \"NULL AS createdby\",\n",
    "        \"NOW() AS createdon\",\n",
    "        \"NULL AS updatedon\",\n",
    "        \"NULL AS deletedon\"\n",
    "    ],\n",
    "    \"NOT_KEYS\" : [\n",
    "        'ogc_fid', 'osm_id', 'name', \"wkb_geometry\",\n",
    "        'healthcare2', 'other_tags'\n",
    "    ]\n",
    "}\n",
    "\n",
    "osmGeoTbl = {\"TBL\" : 'position', \"FID\" : 'positionid'}\n",
    "\n",
    "osmCatTbl = {\n",
    "    \"TBL\" : 'osmcategory', \"FID\" : \"osmcategoryid\",\n",
    "    \"KEY_COL\" : \"keycategory\", \"VAL_COL\" : \"value\",\n",
    "    \"COLS\" : [\n",
    "        \"NULL AS createdby\", \"NOW() AS createdon\",\n",
    "        \"NULL AS updatedon\", \"NULL AS deletedon\"\n",
    "    ]\n",
    "}\n",
    "\n",
    "osmRelTbl = {\n",
    "    \"TBL\" : \"position_osmcat\", \"FID\" : 'pososmcatid'\n",
    "}\n",
    "\n",
    "outsql = '/home/jasp/flainar/flainar_osm.sql'\n",
    "osm_to_relationaldb(conDB, inOsm, inSchema, osmGeoTbl, osmCatTbl, osmRelTbl, outSQL=outsql)"
   ]
  },
  {
   "cell_type": "code",
   "execution_count": null,
   "metadata": {},
   "outputs": [],
   "source": [
    "\"\"\"\n",
    "Clip OSM File\n",
    "\"\"\"\n",
    "\n",
    "from gasp3.gt.prop.ext import get_ext\n",
    "\n",
    "from gasp3 import exec_cmd\n",
    "\n",
    "inBoundary = '/home/jasp/flainar/lmt_centro.shp'\n",
    "inOsm = '/home/jasp/flainar/portugal-latest.osm.pbf'\n",
    "ouOsm = '/home/jasp/flainar/osm_centro.xml'\n",
    "\n",
    "EPSG = 3763\n",
    "\n",
    "extent = get_ext(inBoundary, outEpsg=4326)\n",
    "\n",
    "\n",
    "rcmd = exec_cmd((\n",
    "    \"osmosis --read-pbf {} \"\n",
    "    \"--bounding-box top={} left={} bottom={} right={} \"\n",
    "    \"--write-xml {}\"\n",
    ").format(\n",
    "    inOsm, str(extent[3]), str(extent[0]), str(extent[2]),\n",
    "    str(extent[1]), ouOsm\n",
    "))"
   ]
  },
  {
   "cell_type": "code",
   "execution_count": null,
   "metadata": {},
   "outputs": [],
   "source": []
  }
 ],
 "metadata": {
  "kernelspec": {
   "display_name": "Python 3",
   "language": "python",
   "name": "python3"
  },
  "language_info": {
   "codemirror_mode": {
    "name": "ipython",
    "version": 3
   },
   "file_extension": ".py",
   "mimetype": "text/x-python",
   "name": "python",
   "nbconvert_exporter": "python",
   "pygments_lexer": "ipython3",
   "version": "3.6.8"
  }
 },
 "nbformat": 4,
 "nbformat_minor": 2
}
