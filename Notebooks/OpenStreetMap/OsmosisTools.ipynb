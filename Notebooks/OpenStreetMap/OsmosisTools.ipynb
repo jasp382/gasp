{
 "cells": [
  {
   "cell_type": "code",
   "execution_count": 4,
   "metadata": {},
   "outputs": [
    {
     "data": {
      "text/plain": [
       "'F:\\\\phd_auto_sat_class\\\\osmdata\\\\osm_heidelberg_3.xml'"
      ]
     },
     "execution_count": 4,
     "metadata": {},
     "output_type": "execute_result"
    }
   ],
   "source": [
    "from gasp3.gt.anls.exct.osm import osmosis_extract\n",
    "\n",
    "osmdata = r'F:\\phd_auto_sat_class\\osmdata\\baden-wuerttemberg-latest.osm.pbf'\n",
    "lmt     = r'F:\\phd_auto_sat_class\\lmt\\fishnet_4326_3.shp'\n",
    "osmextr = r'F:\\phd_auto_sat_class\\osmdata\\osm_heidelberg_3.xml'\n",
    "epsg    = 4326\n",
    "\n",
    "osmosis_extract(lmt, osmdata, epsg, osmextr)"
   ]
  },
  {
   "cell_type": "code",
   "execution_count": null,
   "metadata": {},
   "outputs": [],
   "source": []
  }
 ],
 "metadata": {
  "kernelspec": {
   "display_name": "Python 3",
   "language": "python",
   "name": "python3"
  },
  "language_info": {
   "codemirror_mode": {
    "name": "ipython",
    "version": 3
   },
   "file_extension": ".py",
   "mimetype": "text/x-python",
   "name": "python",
   "nbconvert_exporter": "python",
   "pygments_lexer": "ipython3",
   "version": "3.7.3"
  }
 },
 "nbformat": 4,
 "nbformat_minor": 2
}
