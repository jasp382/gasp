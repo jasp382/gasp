{
 "cells": [
  {
   "cell_type": "code",
   "execution_count": 1,
   "metadata": {
    "scrolled": true
   },
   "outputs": [],
   "source": [
    "\"\"\"\n",
    "Resampling Sentinel Data and Clip\n",
    "\"\"\"\n",
    "\n",
    "import os\n",
    "\n",
    "d = {\n",
    "    '/home/jasp/img_0724' : {\n",
    "        'BANDS' : [\n",
    "            'T29TNE_20190724T112121_B02_10m.jp2',\n",
    "            'T29TNE_20190724T112121_B03_10m.jp2',\n",
    "            'T29TNE_20190724T112121_B04_10m.jp2',\n",
    "            'T29TNE_20190724T112121_B08_10m.jp2',\n",
    "            'T29TNE_20190724T112121_B05_20m.jp2',\n",
    "            'T29TNE_20190724T112121_B06_20m.jp2',\n",
    "            'T29TNE_20190724T112121_B07_20m.jp2',\n",
    "            'T29TNE_20190724T112121_B8A_20m.jp2',\n",
    "            'T29TNE_20190724T112121_B11_20m.jp2',\n",
    "            'T29TNE_20190724T112121_B12_20m.jp2',\n",
    "        ],\n",
    "        'FOLDER' : '/home/jasp/img_0724',\n",
    "        'REF'    : 'T29TNE_20190724T112121_B02_10m.jp2',\n",
    "        'CLIP'   : '/home/jasp/img_0724/lmt_ua12_ext.shp'\n",
    "    },\n",
    "}\n",
    "\n",
    "from gasp3.gt.mng.rst.rmp import match_cellsize_and_clip\n",
    "\n",
    "for k in d:\n",
    "    bands = [os.path.join(d[k]['FOLDER'], b) for b in d[k]['BANDS']]\n",
    "    match_cellsize_and_clip(\n",
    "        bands, os.path.join(d[k]['FOLDER'], d[k]['REF']),\n",
    "        k, clipShp=d[k]['CLIP']\n",
    "    )"
   ]
  },
  {
   "cell_type": "code",
   "execution_count": null,
   "metadata": {},
   "outputs": [],
   "source": [
    "from gasp3.gt.mng.rst import comp_bnds\n",
    "from gasp3.pyt.oss import list_files\n",
    "\n",
    "files = list_files(r'D:\\indev\\matereo\\water_bands_2006', file_format='.tif')\n",
    "#files.remove(r'D:\\indev\\matereo\\water_bands\\natural_color.tif')\n",
    "\n",
    "print(files)"
   ]
  },
  {
   "cell_type": "code",
   "execution_count": null,
   "metadata": {},
   "outputs": [],
   "source": [
    "comp_bnds(files, r'D:\\indev\\matereo\\water_bands_2006\\comp_bnds_2006.tif')"
   ]
  },
  {
   "cell_type": "code",
   "execution_count": null,
   "metadata": {},
   "outputs": [],
   "source": []
  }
 ],
 "metadata": {
  "kernelspec": {
   "display_name": "Python 3",
   "language": "python",
   "name": "python3"
  },
  "language_info": {
   "codemirror_mode": {
    "name": "ipython",
    "version": 3
   },
   "file_extension": ".py",
   "mimetype": "text/x-python",
   "name": "python",
   "nbconvert_exporter": "python",
   "pygments_lexer": "ipython3",
   "version": "3.6.8"
  }
 },
 "nbformat": 4,
 "nbformat_minor": 2
}
