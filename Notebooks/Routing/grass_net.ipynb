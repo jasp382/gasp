{
 "cells": [
  {
   "cell_type": "code",
   "execution_count": null,
   "metadata": {},
   "outputs": [],
   "source": [
    "from gasp.grs.netanlst.mtx import thrd_matrix_od\n",
    "import datetime\n",
    "\n",
    "time_a = datetime.datetime.now().replace(microsecond=0)\n",
    "\n",
    "workspace = r'C:\\gis\\MOD_ACCESS\\APIvsSIG_092018\\ex1\\grs_data'\n",
    "grsloc    = 'matrix_lisb'\n",
    "ORIGENS   = r'C:\\gis\\MOD_ACCESS\\APIvsSIG_092018\\ex1\\lugares.shp'\n",
    "DESTINOS  = r'C:\\gis\\MOD_ACCESS\\APIvsSIG_092018\\ex1\\psp.shp'\n",
    "network   = r'C:\\gis\\MOD_ACCESS\\APIvsSIG_092018\\rdv_lisboa.shp'\n",
    "result    = r'C:\\gis\\MOD_ACCESS\\APIvsSIG_092018\\ex1\\lugares_to_psp.shp'\n",
    "\n",
    "thrd_matrix_od(\n",
    "    ORIGENS, DESTINOS, network,\n",
    "    \"KPH\", \"ONEWAY\", workspace, grsloc, result\n",
    ")\n",
    "\n",
    "time_b = datetime.datetime.now().replace(microsecond=0)\n",
    "\n",
    "print time_b - time_a"
   ]
  },
  {
   "cell_type": "code",
   "execution_count": null,
   "metadata": {},
   "outputs": [],
   "source": [
    "from gasp.grs.netanlst.mtx import matrix_od\n",
    "import datetime\n",
    "\n",
    "time_a = datetime.datetime.now().replace(microsecond=0)\n",
    "\n",
    "workspace = r'C:\\gis\\MOD_ACCESS\\APIvsSIG_092018\\ex1\\grs_ex1'\n",
    "grsloc    = 'matrix_lisboa'\n",
    "ORIGENS   = r'C:\\gis\\MOD_ACCESS\\APIvsSIG_092018\\ex1\\lugares.shp'\n",
    "DESTINOS  = r'C:\\gis\\MOD_ACCESS\\APIvsSIG_092018\\ex1\\psp.shp'\n",
    "network   = r'C:\\gis\\MOD_ACCESS\\APIvsSIG_092018\\rdv_lisboa.shp'\n",
    "result    = r'C:\\gis\\MOD_ACCESS\\APIvsSIG_092018\\ex1\\grass_results.shp'\n",
    "\n",
    "matrix_od(ORIGENS, DESTINOS, network, \"KPH\", \"ONEWAY\",\n",
    "         workspace, grsloc, result)\n",
    "\n",
    "time_b = datetime.datetime.now().replace(microsecond=0)\n",
    "\n",
    "print time_b - time_a"
   ]
  },
  {
   "cell_type": "code",
   "execution_count": null,
   "metadata": {},
   "outputs": [],
   "source": []
  }
 ],
 "metadata": {
  "kernelspec": {
   "display_name": "Python 2",
   "language": "python",
   "name": "python2"
  },
  "language_info": {
   "codemirror_mode": {
    "name": "ipython",
    "version": 2
   },
   "file_extension": ".py",
   "mimetype": "text/x-python",
   "name": "python",
   "nbconvert_exporter": "python",
   "pygments_lexer": "ipython2",
   "version": "2.7.13"
  }
 },
 "nbformat": 4,
 "nbformat_minor": 2
}
