{
 "cells": [
  {
   "cell_type": "markdown",
   "metadata": {},
   "source": [
    "# Criação de Áreas de Serviço a partir de um conjunto de pontos #\n",
    "\n",
    "O método servarea_from_points cria áreas de serviço/isócronas (áreas que se encontram a uma distância inferior a X em relação a um ponto) com recurso à API OpenRouteService (https://openrouteservice.org/documentation).\n",
    "\n",
    "### Parâmetros de entrada: ###"
   ]
  },
  {
   "cell_type": "code",
   "execution_count": null,
   "metadata": {},
   "outputs": [],
   "source": [
    "from gasp.pnd.netanlst.orouteserv import servarea_from_points\n",
    "import datetime\n",
    "\n",
    "time_a = datetime.datetime.now().replace(microsecond=0)\n",
    "\n",
    "SHP_ENTRADA       = r'D:\\TRENMO_JASP\\tst_script\\openroute\\nos_metro.shp'\n",
    "SRS_ENTRADA       = 3763\n",
    "TEMPO_EM_SEGUNDOS = 600\n",
    "SHP_SAIDA         = r'D:\\TRENMO_JASP\\tst_script\\openroute\\iso_metro.shp'\n",
    "MODO_TRANSPORTE   = 'foot-walking'\n",
    "\n",
    "servarea_from_points(SHP_ENTRADA, SRS_ENTRADA, TEMPO_EM_SEGUNDOS, SHP_SAIDA,\n",
    "                    mode=MODO_TRANSPORTE)\n",
    "\n",
    "time_b = datetime.datetime.now().replace(microsecond=0)\n",
    "\n",
    "print time_b - time_a"
   ]
  },
  {
   "cell_type": "markdown",
   "metadata": {},
   "source": [
    "# Matriz de distância entre pares OD #"
   ]
  },
  {
   "cell_type": "code",
   "execution_count": null,
   "metadata": {},
   "outputs": [],
   "source": [
    "from gasp.pnd.netanlst.orouteserv import cost_od\n",
    "import datetime\n",
    "\n",
    "time_a = datetime.datetime.now().replace(microsecond=0)\n",
    "\n",
    "ORIGENS  = r'C:\\gis\\compara_api\\ex2\\escolas_publicas.shp'\n",
    "DESTINOS = r'C:\\gis\\compara_api\\ex1\\psp.shp'\n",
    "RESULT   = r'C:\\gis\\compara_api\\ex1\\oroute2.xlsx'\n",
    "\n",
    "cost_od(ORIGENS, DESTINOS, 3763, 3763, RESULT, mode=\"driving-car\")\n",
    "\n",
    "time_b = datetime.datetime.now().replace(microsecond=0)\n",
    "\n",
    "print time_b - time_a"
   ]
  },
  {
   "cell_type": "code",
   "execution_count": null,
   "metadata": {},
   "outputs": [],
   "source": []
  }
 ],
 "metadata": {
  "kernelspec": {
   "display_name": "Python 2",
   "language": "python",
   "name": "python2"
  },
  "language_info": {
   "codemirror_mode": {
    "name": "ipython",
    "version": 2
   },
   "file_extension": ".py",
   "mimetype": "text/x-python",
   "name": "python",
   "nbconvert_exporter": "python",
   "pygments_lexer": "ipython2",
   "version": "2.7.13"
  }
 },
 "nbformat": 4,
 "nbformat_minor": 2
}
