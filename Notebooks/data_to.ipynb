{
 "cells": [
  {
   "cell_type": "markdown",
   "metadata": {},
   "source": [
    "### Top Left and Lower Right to Boundary ###"
   ]
  },
  {
   "cell_type": "code",
   "execution_count": null,
   "metadata": {},
   "outputs": [],
   "source": [
    "from gasp3.gt.to.shp import coords_to_boundary\n",
    "\n",
    "TOP_LEFT    = (16.4789, 68.5588)\n",
    "LOWER_RIGHT = (17.7556, 68.3362)\n",
    "EPSG        = 4326\n",
    "RESULT      = r'D:\\indev\\matereo\\lmt\\lmt_hba.shp'\n",
    "OUT_EPSG    = 32633\n",
    "\n",
    "coords_to_boundary(TOP_LEFT, LOWER_RIGHT, EPSG, RESULT, outEpsg=OUT_EPSG)"
   ]
  },
  {
   "cell_type": "markdown",
   "metadata": {},
   "source": [
    "### Raster Extent to Feature Class ###"
   ]
  },
  {
   "cell_type": "code",
   "execution_count": null,
   "metadata": {},
   "outputs": [],
   "source": [
    "from gasp3.gt.to.shp import rstext_to_shp\n",
    "\n",
    "inRst = r'D:\\phd_auto_sat_class\\sat_img\\T32UMV_20190704T103029_B02_10m.jp2'\n",
    "outShp = r'D:\\phd_auto_sat_class\\lmt\\lmt_h.shp'\n",
    "\n",
    "rstext_to_shp(inRst, outShp)"
   ]
  },
  {
   "cell_type": "markdown",
   "metadata": {},
   "source": [
    "### SQL to ESRI Shapefile ###"
   ]
  },
  {
   "cell_type": "code",
   "execution_count": null,
   "metadata": {},
   "outputs": [],
   "source": [
    "conPSQL = {\n",
    "    'HOST' : 'localhost', 'PORT' : '5432', 'USER' : 'postgres',\n",
    "    'PASSWORD' : 'admin', 'DATABASE' : 'expvgi_db'\n",
    "}\n",
    "\n",
    "from gasp3.gt.to.shp import psql_to_shp\n",
    "\n",
    "Q = (\n",
    "    \"SELECT fid, CAST(date AS text) AS data, CAST(timm AS text) AS hora, (360 - dire) AS cell_direction, \"\n",
    "    \"tmp_user AS place, real_direction, loc, \"\n",
    "    \"ST_X(loc) AS x_coord, ST_Y(loc) AS y_coord \"\n",
    "    \"FROM evgifront_fireloc_contrib \"\n",
    "    \"WHERE tmp_user = 'Cabra '\"\n",
    ")\n",
    "\n",
    "print(Q)\n",
    "\n",
    "psql_to_shp(\n",
    "    conPSQL, Q, '/home/jasp/tst_fire.shp', api='pgsql2shp',\n",
    "    epsg=3763, geom_col='loc', tableIsQuery=True\n",
    ")"
   ]
  },
  {
   "cell_type": "markdown",
   "metadata": {},
   "source": [
    "### All tables in PostgreSQL Database to TXT File ###\n",
    "\n",
    "Each table in one database is converted to a single TXT File."
   ]
  },
  {
   "cell_type": "code",
   "execution_count": null,
   "metadata": {},
   "outputs": [],
   "source": [
    "from gasp3.to import db_to_tbl\n",
    "\n",
    "SPLITTER   = '\\t'\n",
    "OUT_FOLDER = r'C:\\xpto\\jside-atlas\\db'\n",
    "conParam   = {\n",
    "    \"HOST\" : \"localhost\", \"USER\" : \"postgres\", \"PORT\" : \"5432\",\n",
    "    \"PASSWORD\" : \"admin\", \"DATABASE\" : \"jside_db_tmp\"\n",
    "}\n",
    "\n",
    "db_to_tbl(conParam, \"ALL\", OUT_FOLDER, txtDelimiter=SPLITTER, outTblF='txt')"
   ]
  },
  {
   "cell_type": "code",
   "execution_count": null,
   "metadata": {},
   "outputs": [],
   "source": []
  }
 ],
 "metadata": {
  "kernelspec": {
   "display_name": "Python 3",
   "language": "python",
   "name": "python3"
  },
  "language_info": {
   "codemirror_mode": {
    "name": "ipython",
    "version": 3
   },
   "file_extension": ".py",
   "mimetype": "text/x-python",
   "name": "python",
   "nbconvert_exporter": "python",
   "pygments_lexer": "ipython3",
   "version": "3.7.3"
  }
 },
 "nbformat": 4,
 "nbformat_minor": 2
}
