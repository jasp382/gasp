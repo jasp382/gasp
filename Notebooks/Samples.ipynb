{
 "cells": [
  {
   "cell_type": "code",
   "execution_count": null,
   "metadata": {},
   "outputs": [],
   "source": [
    "\"\"\"\n",
    "Create fishnet\n",
    "\"\"\"\n",
    "\n",
    "from gasp3.gt.sample import create_fishnet\n",
    "\n",
    "inShp = r'D:\\gisbrary\\admin_lmt\\CAOP2017\\pt_lmt.shp'\n",
    "\n",
    "outShp = r'C:\\gwork\\fireloc\\datasets\\ref\\pt_ref_grid.shp'\n",
    "\n",
    "create_fishnet(inShp, outShp, width=20000, height=20000)"
   ]
  },
  {
   "cell_type": "code",
   "execution_count": null,
   "metadata": {},
   "outputs": [],
   "source": [
    "\"\"\"\n",
    "Count vizinhos cell in fishnet\n",
    "\"\"\"\n",
    "\n",
    "fishnet = r'C:\\gwork\\fireloc\\datasets\\ref\\pt_ref_grid.shp'\n",
    "\n",
    "res_x = 20000\n",
    "res_y = 20000\n",
    "\n",
    "from gasp3.fm import tbl_to_obj\n",
    "from gasp3.g.gop.prox  import df_buffer_extent\n",
    "\n",
    "fish_df = tbl_to_obj(fishnet)\n",
    "\n",
    "bf_df = df_buffer_extent(grid_df, epsg, cell_width, mantainOriginalGeom=None)"
   ]
  },
  {
   "cell_type": "code",
   "execution_count": null,
   "metadata": {},
   "outputs": [],
   "source": [
    "print"
   ]
  }
 ],
 "metadata": {
  "kernelspec": {
   "display_name": "Python 3",
   "language": "python",
   "name": "python3"
  },
  "language_info": {
   "codemirror_mode": {
    "name": "ipython",
    "version": 3
   },
   "file_extension": ".py",
   "mimetype": "text/x-python",
   "name": "python",
   "nbconvert_exporter": "python",
   "pygments_lexer": "ipython3",
   "version": "3.6.9"
  }
 },
 "nbformat": 4,
 "nbformat_minor": 2
}
