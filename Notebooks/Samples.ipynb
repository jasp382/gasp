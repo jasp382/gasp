{
 "cells": [
  {
   "cell_type": "code",
   "execution_count": null,
   "metadata": {},
   "outputs": [],
   "source": [
    "\"\"\"\n",
    "Create fishnet\n",
    "\"\"\"\n",
    "\n",
    "from gasp3.gt.sample import create_fishnet\n",
    "\n",
    "inShp = r'D:\\gisbrary\\admin_lmt\\CAOP2017\\pt_lmt.shp'\n",
    "\n",
    "outShp = r'C:\\gwork\\fireloc\\datasets\\ref\\pt_ref_grid.shp'\n",
    "\n",
    "create_fishnet(inShp, outShp, width=20000, height=20000)"
   ]
  },
  {
   "cell_type": "code",
   "execution_count": null,
   "metadata": {},
   "outputs": [],
   "source": [
    "\"\"\"\n",
    "Count vizinhos cell in fishnet\n",
    "\"\"\"\n",
    "\n",
    "fishnet = r'C:\\gwork\\fireloc\\datasets\\ref\\pt_ref_grid.shp'\n",
    "\n",
    "res_x = 20000\n",
    "res_y = 20000\n",
    "\n",
    "from gasp3.fm import tbl_to_obj\n",
    "from gasp3.g.gop.prox  import df_buffer_extent\n",
    "\n",
    "fish_df = tbl_to_obj(fishnet)\n",
    "\n",
    "bf_df = df_buffer_extent(grid_df, epsg, cell_width, mantainOriginalGeom=None)"
   ]
  },
  {
   "cell_type": "code",
   "execution_count": null,
   "metadata": {},
   "outputs": [],
   "source": [
    "\"\"\"\n",
    "Create N Fishnet from raster\n",
    "\n",
    "Fishnet properties will be extracted from raster, namely cellsize\n",
    "\"\"\"\n",
    "\n",
    "import os\n",
    "from osgeo import gdal\n",
    "from gasp.g.prop.img import get_cell_size, rst_epsg\n",
    "from gasp.g.smp import fishnet\n",
    "\n",
    "rst = '/mnt/d/gwork/osm2lulc_imgcls/lmt/rst_lisboa.tif'\n",
    "max_row = 500\n",
    "max_col = 500\n",
    "out_folder = '/mnt/d/gwork/osm2lulc_imgcls/fishnet'\n",
    "\n",
    "# Open Raster\n",
    "img = gdal.Open(rst)\n",
    "\n",
    "# Get EPSG\n",
    "epsg = rst_epsg(img)\n",
    "\n",
    "# Get Cellsize\n",
    "tl_x, cs_x, xr, tl_y, yr, cs_y = img.GetGeoTransform()\n",
    "\n",
    "# Get N cols and Rows\n",
    "numimg = img.ReadAsArray()\n",
    "nrows = numimg.shape[0]\n",
    "ncols = numimg.shape[1]\n",
    "\n",
    "# Get raster max_x and min_y\n",
    "rst_max_x = tl_x + (ncols * cs_x)\n",
    "rst_min_y = tl_y + (nrows * cs_y)"
   ]
  },
  {
   "cell_type": "code",
   "execution_count": null,
   "metadata": {},
   "outputs": [],
   "source": [
    "# Fishnet N\n",
    "fnrows = int(round(nrows / max_row, 0))\n",
    "fnrows = fnrows if fnrows == nrows / max_row else fnrows + 1\n",
    "fncols = int(round(ncols / max_col, 0))\n",
    "fncols = fncols if fncols == ncols / max_col else fncols + 1\n",
    "\n",
    "fi = 1\n",
    "for i in range(fnrows):\n",
    "    # TopLeft Y\n",
    "    tly = tl_y + ((max_row * cs_y) * i)\n",
    "    # BottomRight Y\n",
    "    bry = tly + (cs_y * max_row)\n",
    "    # If fishnet min y is lesser than raster min_y\n",
    "    # Use raster min_y\n",
    "    if bry < rst_min_y:\n",
    "        bry = rst_min_y\n",
    "    \n",
    "    for e in range(fncols):\n",
    "        # TopLeft X \n",
    "        tlx = tl_x + ((max_col * cs_x) * e)\n",
    "        # BottomRight X\n",
    "        brx = tlx + (cs_x * max_col)\n",
    "        \n",
    "        # If fishnet max x is greater than raster max_x\n",
    "        # Use raster max_x\n",
    "        if brx > rst_max_x:\n",
    "            brx = rst_max_x\n",
    "        fishnet(\n",
    "            (tlx, tly), (brx, bry),\n",
    "            os.path.join(out_folder, 'fishnet_{}.shp'.format(str(fi))),\n",
    "            cs_x, abs(cs_y), epsg=epsg\n",
    "        )\n",
    "        \n",
    "        fi += 1"
   ]
  },
  {
   "cell_type": "code",
   "execution_count": null,
   "metadata": {},
   "outputs": [],
   "source": []
  }
 ],
 "metadata": {
  "kernelspec": {
   "display_name": "Python 3",
   "language": "python",
   "name": "python3"
  },
  "language_info": {
   "codemirror_mode": {
    "name": "ipython",
    "version": 3
   },
   "file_extension": ".py",
   "mimetype": "text/x-python",
   "name": "python",
   "nbconvert_exporter": "python",
   "pygments_lexer": "ipython3",
   "version": "3.6.9"
  }
 },
 "nbformat": 4,
 "nbformat_minor": 2
}
