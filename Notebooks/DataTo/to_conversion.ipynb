{
 "cells": [
  {
   "cell_type": "markdown",
   "metadata": {},
   "source": [
    "### Convert All Rasters in Folder to Shapefile ###"
   ]
  },
  {
   "cell_type": "code",
   "execution_count": null,
   "metadata": {},
   "outputs": [],
   "source": [
    "# Convert using GRASS GIS\n",
    "\n",
    "import os\n",
    "from gasp.to.shp  import rst_to_polyg\n",
    "from gasp.oss     import lst_ff\n",
    "from gasp.cpu.grs import run_grass\n",
    "from gasp.oss import get_filename\n",
    "\n",
    "GRASS_WORKSPACE = r'D:\\indev\\xyz'\n",
    "GRASS_LOCATION  = 'conv_viena'\n",
    "RST_FOLDER = r'D:\\indev\\OSM2LULC\\WEB_Via\\results_fev19\\viena'\n",
    "OUT_FOLDER = r'D:\\indev\\OSM2LULC\\WEB_Via\\results_fev19\\viena'\n",
    "SRS = 3857\n",
    "RST_TEMPLATE = r'D:\\indev\\OSM2LULC\\WEB_Via\\results_fev19\\viena\\v14_viena_2x2.tif'\n",
    "\n",
    "# List Raster Files\n",
    "rstFiles = lst_ff(RST_FOLDER, file_format='tif')\n",
    "\n",
    "# Start GRASS GIS Session\n",
    "grsbase = run_grass(\n",
    "    GRASS_WORKSPACE, location=GRASS_LOCATION, srs=SRS)\n",
    "\n",
    "import grass.script.setup as gsetup\n",
    "gsetup.init(grsbase, GRASS_WORKSPACE, GRASS_LOCATION, 'PERMANENT')\n",
    "\n",
    "from gasp.to.rst.grs import rst_to_grs\n",
    "from gasp.cpu.grs.conf import rst_to_region\n",
    "from gasp.to.shp.grs import grs_to_shp\n",
    "\n",
    "# Set region\n",
    "tmpRst = rst_to_grs(RST_TEMPLATE, get_filename(RST_TEMPLATE), as_cmd=True)\n",
    "rst_to_region(tmpRst)\n",
    "\n",
    "for rst in rstFiles:\n",
    "    # Add data to GRASS GIS\n",
    "    grsRst = rst_to_grs(rst, get_filename(rst), as_cmd=True)\n",
    "    \n",
    "    # Convert to Polygon\n",
    "    shpGrs = rst_to_polyg(\n",
    "        grsRst, grsRst + \"_shp\",\n",
    "        rstColumn=\"value\", gisApi='grasscmd'\n",
    "    )\n",
    "    \n",
    "    # Export to File\n",
    "    grs_to_shp(shpGrs, os.path.join(OUT_FOLDER, grsRst + '.shp'), 'area')"
   ]
  },
  {
   "cell_type": "markdown",
   "metadata": {},
   "source": [
    "### All Nc in Folders to tiff ###"
   ]
  },
  {
   "cell_type": "code",
   "execution_count": null,
   "metadata": {},
   "outputs": [],
   "source": [
    "from gasp.to.rst.gdl import folder_nc_to_tif\n",
    "\n",
    "folder_nc_to_tif(\n",
    "    r'D:\\gis\\UNDERSee\\sentinel_3', r'D:\\gis\\UNDERSee\\sentinel_3'\n",
    ")"
   ]
  },
  {
   "cell_type": "markdown",
   "metadata": {},
   "source": [
    "### DB Table to XLS File ###"
   ]
  },
  {
   "cell_type": "code",
   "execution_count": null,
   "metadata": {},
   "outputs": [],
   "source": [
    "from gasp.to import db_to_tbl\n",
    "\n",
    "QS = (\n",
    "    \"SELECT link as url FROM facedata WHERE \"\n",
    "    \"page_ref='DiariodeNoticias.pt' AND \"\n",
    "    \"link LIKE '%%www.dn.pt%%'\"\n",
    ")\n",
    "\n",
    "XLS = '/home/jasp/expvgi/dn_noticias.xlsx'\n",
    "SHEETS = 'news'\n",
    "\n",
    "CON_DB = {\n",
    "    'HOST' : 'localhost', 'USER': 'postgres',\n",
    "    'PASSWORD' : 'admin', 'PORT' : '5432',\n",
    "    'DATABASE' : 'dsn_collect'\n",
    "}\n",
    "\n",
    "DB_API = 'psql'\n",
    "\n",
    "db_to_tbl(CON_DB, QS, XLS, sheetsNames=SHEETS, dbAPI=DB_API)"
   ]
  },
  {
   "cell_type": "code",
   "execution_count": null,
   "metadata": {},
   "outputs": [],
   "source": [
    "from gasp3.to.sql import tbl_to_db\n",
    "from gasp3.pyt.oss import get_filename\n",
    "\n",
    "conParam   = {\n",
    "    \"HOST\" : \"localhost\", \"USER\" : \"postgres\", \"PORT\" : \"5432\",\n",
    "    \"PASSWORD\" : \"admin\", \"DATABASE\" : \"dsn_collect\"\n",
    "}\n",
    "\n",
    "TBLS = [\n",
    "    '/home/jasp/expvgi/GeoTmLnh_data_collector/geoname/cities_1.dbf',\n",
    "    '/home/jasp/expvgi/GeoTmLnh_data_collector/geoname/concelhos.dbf',\n",
    "    '/home/jasp/expvgi/GeoTmLnh_data_collector/geoname/freguesias.dbf',\n",
    "    '/home/jasp/expvgi/GeoTmLnh_data_collector/geoname/lugares_pt_1.dbf'\n",
    "]\n",
    "\n",
    "for t in TBLS:\n",
    "    tbl_to_db(t, conParam, get_filename(t), api_db='psql')"
   ]
  },
  {
   "cell_type": "code",
   "execution_count": null,
   "metadata": {},
   "outputs": [],
   "source": []
  }
 ],
 "metadata": {
  "kernelspec": {
   "display_name": "Python 3",
   "language": "python",
   "name": "python3"
  },
  "language_info": {
   "codemirror_mode": {
    "name": "ipython",
    "version": 3
   },
   "file_extension": ".py",
   "mimetype": "text/x-python",
   "name": "python",
   "nbconvert_exporter": "python",
   "pygments_lexer": "ipython3",
   "version": "3.6.8"
  }
 },
 "nbformat": 4,
 "nbformat_minor": 2
}
