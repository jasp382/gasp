{
 "cells": [
  {
   "cell_type": "markdown",
   "metadata": {},
   "source": [
    "### Folder with SHP to SHP with other formats  ###"
   ]
  },
  {
   "cell_type": "code",
   "execution_count": null,
   "metadata": {},
   "outputs": [],
   "source": [
    "import os\n",
    "from gasp3.gt.to.shp import shp_to_shp\n",
    "from gasp3.pyt.oss import lst_ff, get_filename\n",
    "\n",
    "IN_FOLDER      = '/home/jasp'\n",
    "OUT_FOLDER     = '/home/jasp'\n",
    "IN_SHP_FORMAT  = '.shp'\n",
    "OUT_SHP_FORMAT = '.json'\n",
    "\n",
    "inShps = lst_ff(IN_FOLDER, file_format=IN_SHP_FORMAT)\n",
    "\n",
    "for shp in inShps:\n",
    "    shp_to_shp(shp, os.path.join(OUT_FOLDER, get_filename(shp) + OUT_SHP_FORMAT))"
   ]
  },
  {
   "cell_type": "code",
   "execution_count": null,
   "metadata": {},
   "outputs": [],
   "source": [
    "from gasp3.gt.to.shp import pointXls_to_shp\n",
    "\n",
    "inXls = r'D:\\GoogleDrive\\mywork\\undersee\\srm_netcdf_exerc\\backup_MAC40_50_59_31_3F_41.xlsx'\n",
    "outShp = r'D:\\xyz\\obs_29nov.shp'\n",
    "inSheet = '29nov'\n",
    "xCol = 'GPS_LONG'\n",
    "yCol = 'GPS_LAT'\n",
    "\n",
    "pointXls_to_shp(inXls, outShp, xCol, yCol, 4326, sheet=inSheet)"
   ]
  },
  {
   "cell_type": "code",
   "execution_count": null,
   "metadata": {},
   "outputs": [],
   "source": [
    "\"\"\"\n",
    "Features to New File\n",
    "\"\"\"\n",
    "\n",
    "from gasp3.gt.to.shp import eachfeat_to_newshp\n",
    "\n",
    "IN_SHP     = r'C:\\gwork\\fireloc\\datasets\\mdt_m888\\masks.shp'\n",
    "OUT_FOLDER = r'C:\\gwork\\fireloc\\datasets\\mdt_m888\\lmt_dem'\n",
    "\n",
    "eachfeat_to_newshp(IN_SHP, OUT_FOLDER, idCol='cellid')"
   ]
  },
  {
   "cell_type": "code",
   "execution_count": null,
   "metadata": {},
   "outputs": [],
   "source": [
    "\"\"\"\n",
    "Feature Class to Raster\n",
    "\"\"\"\n",
    "\n",
    "in_shp = '/home/jasp/datasets/mdt_m888/ref_lmt.shp'\n",
    "out_rst = '/home/jasp/datasets/mdt_m888/rst_ref50m.tif'\n",
    "cellsize = 50\n",
    "\n",
    "import os\n",
    "from gasp.pyt.oss import get_filename\n",
    "from gasp.gt.wenv.grs import run_grass\n",
    "from gasp.gt.prop.prj import get_epsg\n",
    "\n",
    "# Create GRASS GIS Session\n",
    "ws = os.path.dirname(out_rst)\n",
    "loc = get_filename(out_rst)\n",
    "epsg = get_epsg(in_shp)\n",
    "grsbase = run_grass(ws, grassBIN='grass78', location=loc, srs=epsg)\n",
    "\n",
    "import grass.script as grass\n",
    "import grass.script.setup as gsetup\n",
    "gsetup.init(grsbase, ws, loc, 'PERMANENT')\n",
    "\n",
    "# Import Packages\n",
    "from gasp.gt.to.shp import shp_to_grs\n",
    "from gasp.gt.to.rst import grs_to_rst, shp_to_rst\n",
    "from gasp.gt.wenv.grs import shp_to_region\n",
    "\n",
    "# Shape to GRASS\n",
    "grs_shp = shp_to_grs(in_shp, get_filename(in_shp), asCMD=True)\n",
    "\n",
    "# Set Region\n",
    "shp_to_region(grs_shp, cellsize)\n",
    "\n",
    "# Convert\n",
    "grs_rst = shp_to_rst(grs_shp, 0, None, None, 'conv_rst', api='grass')\n",
    "\n",
    "# GRASS To RST\n",
    "grs_to_rst(grs_rst, out_rst, as_cmd=True)"
   ]
  },
  {
   "cell_type": "code",
   "execution_count": null,
   "metadata": {},
   "outputs": [],
   "source": []
  }
 ],
 "metadata": {
  "kernelspec": {
   "display_name": "Python 3",
   "language": "python",
   "name": "python3"
  },
  "language_info": {
   "codemirror_mode": {
    "name": "ipython",
    "version": 3
   },
   "file_extension": ".py",
   "mimetype": "text/x-python",
   "name": "python",
   "nbconvert_exporter": "python",
   "pygments_lexer": "ipython3",
   "version": "3.6.8"
  }
 },
 "nbformat": 4,
 "nbformat_minor": 2
}
