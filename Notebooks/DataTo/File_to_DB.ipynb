{
 "cells": [
  {
   "cell_type": "markdown",
   "metadata": {},
   "source": [
    "### Table to Database Table ###"
   ]
  },
  {
   "cell_type": "code",
   "execution_count": null,
   "metadata": {},
   "outputs": [],
   "source": [
    "from gasp3.sql.to import tbl_to_db\n",
    "\n",
    "TABLE_FILE = r'F:\\expvgi\\geotmlnh_text_cls\\tbl_ref\\ref_fire_face_v3_102019.xlsx'\n",
    "\n",
    "conDB = {\n",
    "    'HOST' : 'localhost', 'PORT' : '5432', 'USER' : 'postgres',\n",
    "    'PASSWORD' : 'admin', 'DATABASE' : 'expvgim_db'\n",
    "}\n",
    "\n",
    "SHEET = 'to_db'\n",
    "\n",
    "mapCols = {\n",
    "    'post_id' : 'postid', 'is_related' : 'is_fire',\n",
    "    'is_incendio' : 'is_fire_bin', 'is_evento' : 'is_fire_evn'\n",
    "}\n",
    "OUT_TBL = 'geotmlnh_facesample'\n",
    "\n",
    "tbl_to_db(\n",
    "    TABLE_FILE, conDB, OUT_TBL, delimiter=None, encoding_='utf-8',\n",
    "    sheet=SHEET, isAppend=True, api_db='psql', colsMap=mapCols\n",
    ")"
   ]
  },
  {
   "cell_type": "markdown",
   "metadata": {},
   "source": [
    "### Feature Class to Database ###"
   ]
  },
  {
   "cell_type": "code",
   "execution_count": 1,
   "metadata": {},
   "outputs": [
    {
     "data": {
      "text/plain": [
       "'geotmlnh_lyrpolygon'"
      ]
     },
     "execution_count": 1,
     "metadata": {},
     "output_type": "execute_result"
    }
   ],
   "source": [
    "from gasp3.sql.to import shp_to_psql\n",
    "\n",
    "conDB = {\n",
    "    'HOST' : 'localhost', 'PORT' : '5432', 'USER' : 'postgres',\n",
    "    'PASSWORD' : 'admin', 'DATABASE' : 'expvgi_api'\n",
    "}\n",
    "\n",
    "in_shp = r'E:\\geotmlnh\\viewer\\lyrpolygon_sp.shp'\n",
    "\n",
    "EPSG = 3763\n",
    "\n",
    "COLS_MAP = {'id_lyr' : 'lyrid', 'cat' : 'cat', 'idf' : 'fid'}\n",
    "\n",
    "PG_TABLE=\"geotmlnh_lyrpolygon\"\n",
    "\n",
    "shp_to_psql(conDB, in_shp, srsEpsgCode=EPSG, pgTable=PG_TABLE, api=\"pandas\", mapCols=COLS_MAP)"
   ]
  },
  {
   "cell_type": "markdown",
   "metadata": {},
   "source": [
    "### Raster to PostgreSQL Table ###\n",
    "\n",
    "Este método tem um problema específico: num GeoTiff, os dados estão comprimidos, assim, um ficheiro \n",
    "com 6GB pode ter poucos MB porque está compactado; quando convertido para tabela PSQL, esses dados, em princípio, ocuparão 6GB.\n",
    "Há forma de compactar os dados dentro do PostgreSQL?"
   ]
  },
  {
   "cell_type": "code",
   "execution_count": null,
   "metadata": {},
   "outputs": [],
   "source": [
    "import os\n",
    "from gasp3.pyt.oss import get_filename\n",
    "from gasp.to.psql  import rst_to_psql\n",
    "\n",
    "IN_RASTER = r'D:\\path\\to\\rst.tif'\n",
    "CON_PARAM = {\n",
    "    'HOST': 'localhost', 'PORT': '5432',\n",
    "    'PASSWORD': 'admin', 'USER': 'postgres',\n",
    "    'DATABASE': 'db_name'\n",
    "}\n",
    "EPSG = 3763\n",
    "\n",
    "rst_to_psql(IN_RASTER, EPSG, lnk=CON_PARAM, sql_script=os.path.join(\n",
    "    os.path.dirname(IN_RASTER), get_filename(IN_RASTER) + '.sql'\n",
    "))"
   ]
  },
  {
   "cell_type": "markdown",
   "metadata": {},
   "source": [
    "### Folder with TXT Files to PostgreSQL Database ###\n",
    "\n",
    "Create a new database and add each TXT in Folder as PSQL Table. "
   ]
  },
  {
   "cell_type": "code",
   "execution_count": null,
   "metadata": {},
   "outputs": [],
   "source": [
    "from gasp.topsql import txts_to_newdb\n",
    "\n",
    "CON_PARAM = {\n",
    "    \"HOST\"     : \"localhost\", \"PORT\" : \"5432\", \"USER\" : \"postgres\",\n",
    "    \"PASSWORD\" : \"admin\", \"TEMPLATE\" : \"postgis_template\"\n",
    "}\n",
    "\n",
    "TXT_FOLDER = r'D:\\gis\\TRENMO_WEBAPP\\GTFS'\n",
    "\n",
    "NEW_DB = \"trenmogtfs\"\n",
    "\n",
    "DELIMITER = \",\"\n",
    "\n",
    "txts_to_newdb(CON_PARAM, TXT_FOLDER, NEW_DB, DELIMITER, rewrite=True)"
   ]
  }
 ],
 "metadata": {
  "kernelspec": {
   "display_name": "Python 3",
   "language": "python",
   "name": "python3"
  },
  "language_info": {
   "codemirror_mode": {
    "name": "ipython",
    "version": 3
   },
   "file_extension": ".py",
   "mimetype": "text/x-python",
   "name": "python",
   "nbconvert_exporter": "python",
   "pygments_lexer": "ipython3",
   "version": "3.7.3"
  }
 },
 "nbformat": 4,
 "nbformat_minor": 2
}
