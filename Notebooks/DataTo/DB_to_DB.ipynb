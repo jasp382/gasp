{
 "cells": [
  {
   "cell_type": "code",
   "execution_count": 1,
   "metadata": {},
   "outputs": [
    {
     "data": {
      "text/plain": [
       "'atlas_years'"
      ]
     },
     "execution_count": 1,
     "metadata": {},
     "output_type": "execute_result"
    }
   ],
   "source": [
    "from gasp3.sql.to import apndtbl_in_otherdb\n",
    "\n",
    "\n",
    "con_a = {\n",
    "    \"HOST\" : \"localhost\", \"USER\" : \"postgres\", \"PORT\" : \"5432\",\n",
    "    \"PASSWORD\" : \"admin\", \"DATABASE\" : \"jside_db_tmp\"\n",
    "}\n",
    "\n",
    "con_b = {\n",
    "    \"HOST\" : \"localhost\", \"USER\" : \"postgres\", \"PORT\" : \"5432\",\n",
    "    \"PASSWORD\" : \"admin\", \"DATABASE\" : \"jside_db\"\n",
    "}\n",
    "\n",
    "\n",
    "apndtbl_in_otherdb(con_a, con_b, 'atlas_years', 'atlas_years', {\n",
    "    'fid' : 'fid', 'year' : 'year'\n",
    "}, srsEpsg=None, geomCol=None)"
   ]
  },
  {
   "cell_type": "code",
   "execution_count": null,
   "metadata": {},
   "outputs": [],
   "source": []
  }
 ],
 "metadata": {
  "kernelspec": {
   "display_name": "Python 3",
   "language": "python",
   "name": "python3"
  },
  "language_info": {
   "codemirror_mode": {
    "name": "ipython",
    "version": 3
   },
   "file_extension": ".py",
   "mimetype": "text/x-python",
   "name": "python",
   "nbconvert_exporter": "python",
   "pygments_lexer": "ipython3",
   "version": "3.7.3"
  }
 },
 "nbformat": 4,
 "nbformat_minor": 2
}
