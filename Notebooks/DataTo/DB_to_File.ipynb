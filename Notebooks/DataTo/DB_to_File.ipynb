{
 "cells": [
  {
   "cell_type": "markdown",
   "metadata": {},
   "source": [
    "### PostgreSQL Table to Feature Class with OGR Driver ###"
   ]
  },
  {
   "cell_type": "code",
   "execution_count": null,
   "metadata": {},
   "outputs": [],
   "source": [
    "from gasp3.gt.to.shp import psql_to_shp\n",
    "\n",
    "conParam = {\n",
    "    \"HOST\" : \"localhost\", \"USER\" : \"postgres\", \"PORT\" : \"5432\",\n",
    "    \"PASSWORD\" : \"admin\", \"DATABASE\" : \"fireloc\"\n",
    "}\n",
    "\n",
    "TABLE = 'evgifront_fireloc_contrib'\n",
    "\n",
    "OUTPUT = r'F:\\fireloc\\pnts.shp'\n",
    "SRS_CODE = 3763\n",
    "GEOMETRY_COLUMN = \"loc\"\n",
    "\n",
    "psql_to_shp(\n",
    "    conParam, TABLE, OUTPUT,\n",
    "    epsg=SRS_CODE, geom_col=GEOMETRY_COLUMN,\n",
    "    tableIsQuery=None, api='pgsql2shp'\n",
    ")"
   ]
  },
  {
   "cell_type": "markdown",
   "metadata": {},
   "source": [
    "### Dump database to sql script ###"
   ]
  },
  {
   "cell_type": "code",
   "execution_count": null,
   "metadata": {},
   "outputs": [],
   "source": [
    "from gasp3.sql.fm import dump_db\n",
    "\n",
    "conParam = {\n",
    "    \"HOST\" : \"localhost\", \"USER\" : \"jasp\", \"PORT\" : \"3306\",\n",
    "    \"PASSWORD\" : \"admin\", \"DATABASE\" : \"undersee\"\n",
    "}\n",
    "\n",
    "out = '/home/jasp/teste.sql'\n",
    "\n",
    "dump_db(conParam, out, api='mysql')"
   ]
  },
  {
   "cell_type": "markdown",
   "metadata": {},
   "source": [
    "### Dump PostgreSQL Table(s) to SQL Script ###"
   ]
  },
  {
   "cell_type": "code",
   "execution_count": null,
   "metadata": {},
   "outputs": [],
   "source": [
    "from gasp3.sql.fm import dump_tbls\n",
    "\n",
    "conParam = {\n",
    "    \"HOST\" : \"localhost\", \"USER\" : \"postgres\", \"PORT\" : \"5432\",\n",
    "    \"PASSWORD\" : \"admin\", \"DATABASE\" : \"expvgi_api\"\n",
    "}\n",
    "\n",
    "tbls = ['geotmlnh_']\n",
    "\n",
    "out_sql = r'E:\\expvgi\\db_dumps\\expvgi_geotmlnh_tbl_04112019.sql'\n",
    "\n",
    "dump_tbls(conParam, tbls, out_sql, startWith=True)"
   ]
  },
  {
   "cell_type": "markdown",
   "metadata": {},
   "source": [
    "### All tables in DB to Excel ###"
   ]
  },
  {
   "cell_type": "code",
   "execution_count": null,
   "metadata": {},
   "outputs": [],
   "source": [
    "from gasp3.to import db_to_tbl\n",
    "\n",
    "conParam   = {\n",
    "    \"HOST\" : \"localhost\", \"USER\" : \"jasp\", \"PORT\" : \"3306\",\n",
    "    \"PASSWORD\" : \"admin\", \"DATABASE\" : \"undersee\"\n",
    "}\n",
    "\n",
    "TABLES = \"ALL\"\n",
    "outFld = '/home/jasp/undersee_db'\n",
    "API = 'mysql'\n",
    "outformat = '.xlsx'\n",
    "\n",
    "db_to_tbl(\n",
    "    conParam, TABLES, outFld, dbAPI=API, outTblF=outformat\n",
    ")"
   ]
  },
  {
   "cell_type": "markdown",
   "metadata": {},
   "source": [
    "### All tables in PostgreSQL Database to TXT File ###\n",
    "\n",
    "Each table in one database is converted to a single TXT File."
   ]
  },
  {
   "cell_type": "code",
   "execution_count": null,
   "metadata": {},
   "outputs": [],
   "source": [
    "from gasp3.to import db_to_tbl\n",
    "\n",
    "SPLITTER   = '\\t'\n",
    "OUT_FOLDER = r'C:\\xpto\\jside-atlas\\db'\n",
    "conParam   = {\n",
    "    \"HOST\" : \"localhost\", \"USER\" : \"postgres\", \"PORT\" : \"5432\",\n",
    "    \"PASSWORD\" : \"admin\", \"DATABASE\" : \"jside_db_tmp\"\n",
    "}\n",
    "\n",
    "db_to_tbl(conParam, \"ALL\", OUT_FOLDER, txtDelimiter=SPLITTER, outTblF='txt')"
   ]
  }
 ],
 "metadata": {
  "kernelspec": {
   "display_name": "Python 3",
   "language": "python",
   "name": "python3"
  },
  "language_info": {
   "codemirror_mode": {
    "name": "ipython",
    "version": 3
   },
   "file_extension": ".py",
   "mimetype": "text/x-python",
   "name": "python",
   "nbconvert_exporter": "python",
   "pygments_lexer": "ipython3",
   "version": "3.6.8"
  }
 },
 "nbformat": 4,
 "nbformat_minor": 2
}
