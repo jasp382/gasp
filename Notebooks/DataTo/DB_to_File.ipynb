{
 "cells": [
  {
   "cell_type": "markdown",
   "metadata": {},
   "source": [
    "### PostgreSQL Table to Feature Class with OGR Driver ###"
   ]
  },
  {
   "cell_type": "code",
   "execution_count": null,
   "metadata": {},
   "outputs": [],
   "source": [
    "from gasp3.gt.to.shp import psql_to_shp\n",
    "\n",
    "conParam = {\n",
    "    \"HOST\" : \"localhost\", \"USER\" : \"postgres\", \"PORT\" : \"5432\",\n",
    "    \"PASSWORD\" : \"admin\", \"DATABASE\" : \"fireloc\"\n",
    "}\n",
    "\n",
    "TABLE = 'evgifront_fireloc_contrib'\n",
    "\n",
    "OUTPUT = r'F:\\fireloc\\pnts.shp'\n",
    "SRS_CODE = 3763\n",
    "GEOMETRY_COLUMN = \"loc\"\n",
    "\n",
    "psql_to_shp(\n",
    "    conParam, TABLE, OUTPUT,\n",
    "    epsg=SRS_CODE, geom_col=GEOMETRY_COLUMN,\n",
    "    tableIsQuery=None, api='pgsql2shp'\n",
    ")"
   ]
  },
  {
   "cell_type": "markdown",
   "metadata": {},
   "source": [
    "### Dump PostgreSQL Table(s) to SQL Script ###"
   ]
  },
  {
   "cell_type": "code",
   "execution_count": null,
   "metadata": {},
   "outputs": [],
   "source": [
    "from gasp3.sql.mng.tbl import dump_tbls\n",
    "\n",
    "conParam = {\n",
    "    \"HOST\" : \"localhost\", \"USER\" : \"postgres\", \"PORT\" : \"5432\",\n",
    "    \"PASSWORD\" : \"admin\", \"DATABASE\" : \"expvgim_db\"\n",
    "}\n",
    "\n",
    "tbls = ['geotmlnh_']\n",
    "\n",
    "out_sql = r'E:\\expvgi\\db_dumps\\expvgi_geotmlnh_tbl.sql'\n",
    "\n",
    "dump_tbls(conParam, tbls, out_sql, startWith=True)"
   ]
  },
  {
   "cell_type": "code",
   "execution_count": null,
   "metadata": {},
   "outputs": [],
   "source": []
  }
 ],
 "metadata": {
  "kernelspec": {
   "display_name": "Python 3",
   "language": "python",
   "name": "python3"
  },
  "language_info": {
   "codemirror_mode": {
    "name": "ipython",
    "version": 3
   },
   "file_extension": ".py",
   "mimetype": "text/x-python",
   "name": "python",
   "nbconvert_exporter": "python",
   "pygments_lexer": "ipython3",
   "version": "3.7.3"
  }
 },
 "nbformat": 4,
 "nbformat_minor": 2
}
