{
 "cells": [
  {
   "cell_type": "code",
   "execution_count": null,
   "metadata": {},
   "outputs": [],
   "source": [
    "\"\"\"\n",
    "Get Products List\n",
    "\"\"\"\n",
    "\n",
    "# Inputs\n",
    "shpExtent = '/mnt/c/gwork/osm2lulc_imgcls/lmt/ext_lisboa.shp'\n",
    "start_time = \"20190601\" # Use YYYY-MM-DD Format\n",
    "end_time = \"20190630\"\n",
    "user = 'jpatriarca'\n",
    "password = ''\n",
    "out_results = '/mnt/c/gwork/osm2lulc_imgcls/sentinel/img_list2.shp'\n",
    "platform = \"Sentinel-2\"\n",
    "processingL = 'Level-2A'\n",
    "\n",
    "from gasp.gt.dwimg import lst_prod\n",
    "\n",
    "r = lst_prod(\n",
    "    shpExtent, start_time, end_time, user, password, out_results,\n",
    "    platform, processingL\n",
    ")"
   ]
  },
  {
   "cell_type": "code",
   "execution_count": null,
   "metadata": {},
   "outputs": [],
   "source": [
    "\"\"\"\n",
    "DOWNLOAD Images in Shapefile\n",
    "\"\"\"\n",
    "\n",
    "user = 'jpatriarca'\n",
    "password = ''\n",
    "IN_SHP = '/mnt/c/gwork/osm2lulc_imgcls/sentinel/img_list2.shp'\n",
    "OUT_FOLDER = '/mnt/c/gwork/osm2lulc_imgcls/sentinel'\n",
    "\n",
    "from gasp.gt.dwimg import down_imgs\n",
    "\n",
    "down_imgs(\n",
    "    IN_SHP, user, password, 'uuid', outFolder=OUT_FOLDER\n",
    ")"
   ]
  },
  {
   "cell_type": "code",
   "execution_count": null,
   "metadata": {},
   "outputs": [],
   "source": []
  }
 ],
 "metadata": {
  "kernelspec": {
   "display_name": "Python 3",
   "language": "python",
   "name": "python3"
  },
  "language_info": {
   "codemirror_mode": {
    "name": "ipython",
    "version": 3
   },
   "file_extension": ".py",
   "mimetype": "text/x-python",
   "name": "python",
   "nbconvert_exporter": "python",
   "pygments_lexer": "ipython3",
   "version": "3.6.9"
  }
 },
 "nbformat": 4,
 "nbformat_minor": 2
}
