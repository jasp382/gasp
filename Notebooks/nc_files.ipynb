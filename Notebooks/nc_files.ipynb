{
 "cells": [
  {
   "cell_type": "code",
   "execution_count": null,
   "metadata": {},
   "outputs": [],
   "source": [
    "\"\"\"\n",
    "List NC in Folder and record all properties and write them in one xlsx file\n",
    "\"\"\"\n",
    "\n",
    "folder = r'D:\\gisbrary\\Climatic\\ipma_collection_2017\\nc_1971_2000'\n",
    "outtbl = r'C:\\Users\\joaqu\\Desktop\\nc_info.xlsx'\n",
    "\n",
    "from gasp.pyt.oss import lst_ff, get_filename\n",
    "import pandas as pd\n",
    "import netCDF4 as nc\n",
    "from gasp.to import obj_to_tbl\n",
    "\n",
    "nc_files = lst_ff(folder, file_format='.nc')\n",
    "\n",
    "meta_data = []\n",
    "\n",
    "for i in range(len(nc_files)):\n",
    "    ncf = nc.Dataset(nc_files[i], \"r\", format=\"NETCDF4\")\n",
    "    \n",
    "    for name, var in ncf.variables.items():\n",
    "        d = {\n",
    "            'idx' : i+1, 'filename' : get_filename(nc_files[i]),\n",
    "            'varname' : name\n",
    "        }\n",
    "        \n",
    "        for attrname in var.ncattrs():\n",
    "            d[attrname] = getattr(var, attrname)\n",
    "    \n",
    "        meta_data.append(d)\n",
    "\n",
    "tbl = pd.DataFrame(meta_data)\n",
    "obj_to_tbl(tbl, outtbl, sheetsName='nc_meta')"
   ]
  },
  {
   "cell_type": "code",
   "execution_count": null,
   "metadata": {},
   "outputs": [],
   "source": [
    "print(ncf.variables)\n",
    "print(ncf.dimensions)"
   ]
  },
  {
   "cell_type": "code",
   "execution_count": null,
   "metadata": {},
   "outputs": [],
   "source": []
  }
 ],
 "metadata": {
  "kernelspec": {
   "display_name": "Python 3",
   "language": "python",
   "name": "python3"
  },
  "language_info": {
   "codemirror_mode": {
    "name": "ipython",
    "version": 3
   },
   "file_extension": ".py",
   "mimetype": "text/x-python",
   "name": "python",
   "nbconvert_exporter": "python",
   "pygments_lexer": "ipython3",
   "version": "3.7.3"
  }
 },
 "nbformat": 4,
 "nbformat_minor": 2
}
