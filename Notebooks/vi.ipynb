{
 "cells": [
  {
   "cell_type": "code",
   "execution_count": null,
   "metadata": {},
   "outputs": [],
   "source": [
    "# Informative Value Python Implementation\n",
    "from gasp.lndsld.predict import infovalue\n",
    "\n",
    "landslides = r'C:\\gis\\MOD_LNDSLD\\TSTVI_092018\\MOV_G1G2G3.shp'\n",
    "variables  = [\n",
    "    r'C:\\gis\\MOD_LNDSLD\\TSTVI_092018\\rst_corine.tif'    , r'C:\\gis\\MOD_LNDSLD\\TSTVI_092018\\rst_curvatura.tif',\n",
    "    r'C:\\gis\\MOD_LNDSLD\\TSTVI_092018\\rst_declv.tif'     , r'C:\\gis\\MOD_LNDSLD\\TSTVI_092018\\rst_expo.tif',\n",
    "    r'C:\\gis\\MOD_LNDSLD\\TSTVI_092018\\rst_invTopo_ND.tif', r'C:\\gis\\MOD_LNDSLD\\TSTVI_092018\\rst_litologia.tif' \n",
    "]\n",
    "\n",
    "vi_raster = r'C:\\gis\\MOD_LNDSLD\\TSTVI_092018\\vi_teste2.tif'\n",
    "\n",
    "dataEpsg = 3763\n",
    "\n",
    "infovalue(landslides, variables, vi_raster, dataEpsg)"
   ]
  },
  {
   "cell_type": "code",
   "execution_count": null,
   "metadata": {},
   "outputs": [],
   "source": []
  }
 ],
 "metadata": {
  "kernelspec": {
   "display_name": "Python 2",
   "language": "python",
   "name": "python2"
  },
  "language_info": {
   "codemirror_mode": {
    "name": "ipython",
    "version": 2
   },
   "file_extension": ".py",
   "mimetype": "text/x-python",
   "name": "python",
   "nbconvert_exporter": "python",
   "pygments_lexer": "ipython2",
   "version": "2.7.13"
  }
 },
 "nbformat": 4,
 "nbformat_minor": 2
}
