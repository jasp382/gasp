{
 "cells": [
  {
   "cell_type": "code",
   "execution_count": null,
   "metadata": {},
   "outputs": [],
   "source": [
    "\"\"\"\n",
    "Features to New File\n",
    "\"\"\"\n",
    "\n",
    "from gasp3.gt.mng.feat import eachfeat_to_newshp\n",
    "\n",
    "IN_SHP     = r'F:\\phd_auto_sat_class\\lmt\\fishnet_4326.shp'\n",
    "OUT_FOLDER = r'F:\\phd_auto_sat_class\\lmt'\n",
    "\n",
    "eachfeat_to_newshp(IN_SHP, OUT_FOLDER)"
   ]
  },
  {
   "cell_type": "code",
   "execution_count": null,
   "metadata": {},
   "outputs": [],
   "source": []
  }
 ],
 "metadata": {
  "kernelspec": {
   "display_name": "Python 3",
   "language": "python",
   "name": "python3"
  },
  "language_info": {
   "codemirror_mode": {
    "name": "ipython",
    "version": 3
   },
   "file_extension": ".py",
   "mimetype": "text/x-python",
   "name": "python",
   "nbconvert_exporter": "python",
   "pygments_lexer": "ipython3",
   "version": "3.7.3"
  }
 },
 "nbformat": 4,
 "nbformat_minor": 2
}
