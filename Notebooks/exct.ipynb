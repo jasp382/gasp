{
 "cells": [
  {
   "cell_type": "code",
   "execution_count": 2,
   "metadata": {},
   "outputs": [
    {
     "data": {
      "text/plain": [
       "'C:\\\\gis\\\\EXT_CGI\\\\validation\\\\view\\\\bf_cells'"
      ]
     },
     "execution_count": 2,
     "metadata": {},
     "output_type": "execute_result"
    }
   ],
   "source": [
    "\"\"\"\n",
    "Create a new shapefile for each value one column\n",
    "\"\"\"\n",
    "\n",
    "from gasp.pnd.anls.exct import split_shp_by_attr\n",
    "\n",
    "INPUT_FEATURE_CLASSES = r'C:\\gis\\EXT_CGI\\validation\\view\\bf_cell.shp'\n",
    "ATTRIBUTE_COLUMN      = 'id_cell'\n",
    "OUTPUT_FOLDER         = r'C:\\gis\\EXT_CGI\\validation\\view\\bf_cells'\n",
    "FILE_FORMAT           = '.shp'\n",
    "\n",
    "split_shp_by_attr(INPUT_FEATURE_CLASSES, ATTRIBUTE_COLUMN, OUTPUT_FOLDER, _format=FILE_FORMAT)"
   ]
  },
  {
   "cell_type": "code",
   "execution_count": null,
   "metadata": {},
   "outputs": [],
   "source": []
  }
 ],
 "metadata": {
  "kernelspec": {
   "display_name": "Python 2",
   "language": "python",
   "name": "python2"
  },
  "language_info": {
   "codemirror_mode": {
    "name": "ipython",
    "version": 2
   },
   "file_extension": ".py",
   "mimetype": "text/x-python",
   "name": "python",
   "nbconvert_exporter": "python",
   "pygments_lexer": "ipython2",
   "version": "2.7.15rc1"
  }
 },
 "nbformat": 4,
 "nbformat_minor": 2
}
