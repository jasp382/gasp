{
 "cells": [
  {
   "cell_type": "code",
   "execution_count": null,
   "metadata": {},
   "outputs": [],
   "source": [
    "from gasp.pnd.netanlst.mapbx import matrix_od\n",
    "import datetime\n",
    "\n",
    "time_a = datetime.datetime.now().replace(microsecond=0)\n",
    "\n",
    "ORIGENS  = r'D:\\gis\\compara_api\\escolas_publicas.shp'\n",
    "DESTINOS = r'D:\\gis\\compara_api\\psp.shp'\n",
    "RESULT   = r'D:\\gis\\compara_api\\matriz_cost_od.shp'\n",
    "EPSG     = 3763\n",
    "\n",
    "r = matrix_od(ORIGENS, DESTINOS, 3763, 3763, RESULT, modeTrans=\"driving\")\n",
    "\n",
    "time_b = datetime.datetime.now().replace(microsecond=0)\n",
    "\n",
    "print time_b - time_a"
   ]
  },
  {
   "cell_type": "code",
   "execution_count": null,
   "metadata": {},
   "outputs": [],
   "source": []
  }
 ],
 "metadata": {
  "kernelspec": {
   "display_name": "Python 2",
   "language": "python",
   "name": "python2"
  },
  "language_info": {
   "codemirror_mode": {
    "name": "ipython",
    "version": 2
   },
   "file_extension": ".py",
   "mimetype": "text/x-python",
   "name": "python",
   "nbconvert_exporter": "python",
   "pygments_lexer": "ipython2",
   "version": "2.7.13"
  }
 },
 "nbformat": 4,
 "nbformat_minor": 2
}
