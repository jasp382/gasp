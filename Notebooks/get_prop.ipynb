{
 "cells": [
  {
   "cell_type": "code",
   "execution_count": 2,
   "metadata": {},
   "outputs": [
    {
     "name": "stdout",
     "output_type": "stream",
     "text": [
      "3857 True\n"
     ]
    }
   ],
   "source": [
    "\"\"\"\n",
    "Get EPSG Raster\n",
    "\"\"\"\n",
    "\n",
    "from gasp.prop.rst import get_epsg_raster\n",
    "\n",
    "#IN_RST  = '/home/jasp/osmtolulc_debug/lmt/ref_wgs_phila.tif'\n",
    "IN_RST  = '/home/jasp/osmtolulc_debug/lmt/ref_rst_phila.tif'\n",
    "\n",
    "epsg, isproj = get_epsg_raster(IN_RST, returnIsProj=True)\n",
    "\n",
    "print epsg, isproj"
   ]
  },
  {
   "cell_type": "code",
   "execution_count": null,
   "metadata": {},
   "outputs": [],
   "source": []
  }
 ],
 "metadata": {
  "kernelspec": {
   "display_name": "Python 2",
   "language": "python",
   "name": "python2"
  },
  "language_info": {
   "codemirror_mode": {
    "name": "ipython",
    "version": 2
   },
   "file_extension": ".py",
   "mimetype": "text/x-python",
   "name": "python",
   "nbconvert_exporter": "python",
   "pygments_lexer": "ipython2",
   "version": "2.7.15rc1"
  }
 },
 "nbformat": 4,
 "nbformat_minor": 2
}
