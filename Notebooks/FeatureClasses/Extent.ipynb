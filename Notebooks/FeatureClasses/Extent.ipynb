{
 "cells": [
  {
   "cell_type": "markdown",
   "metadata": {},
   "source": [
    "# Geographic Extent Related #"
   ]
  },
  {
   "cell_type": "markdown",
   "metadata": {},
   "source": [
    "### Point to Boundary using tolerance in meters ###"
   ]
  },
  {
   "cell_type": "code",
   "execution_count": null,
   "metadata": {},
   "outputs": [],
   "source": [
    "from gasp.mng.ext import points_to_boundary; import os\n",
    "\n",
    "PNT_SHP = [\n",
    "    r'D:\\indev\\OSM2LULC\\debug_may19\\pnt_eua.shp',\n",
    "    r'D:\\indev\\OSM2LULC\\debug_may19\\pnt_haiti.shp'\n",
    "]\n",
    "outSHPS = [\n",
    "    r'D:\\indev\\OSM2LULC\\debug_may19\\phila_5k.shp',\n",
    "    r'D:\\indev\\OSM2LULC\\debug_may19\\prince_5k.shp'\n",
    "]\n",
    "tolerances = 5000\n",
    "\n",
    "for i in range(len(PNT_SHP)):\n",
    "    points_to_boundary(\n",
    "            PNT_SHP[i], outSHPS[i], tolerances)"
   ]
  },
  {
   "cell_type": "markdown",
   "metadata": {},
   "source": [
    "### Data Extent to Boundary or Raster ###"
   ]
  },
  {
   "cell_type": "code",
   "execution_count": null,
   "metadata": {},
   "outputs": [],
   "source": [
    "from gasp3.gt.to import fext_to_geof\n",
    "\n",
    "fext_to_geof(\n",
    "    r'E:\\geotmlnh\\viewer\\lmt_incendios\\pedrogao.shp',\n",
    "    r'E:\\geotmlnh\\viewer\\lmt_estudo\\pedrogao.shp'\n",
    ")"
   ]
  },
  {
   "cell_type": "code",
   "execution_count": null,
   "metadata": {},
   "outputs": [],
   "source": []
  }
 ],
 "metadata": {
  "kernelspec": {
   "display_name": "Python 3",
   "language": "python",
   "name": "python3"
  },
  "language_info": {
   "codemirror_mode": {
    "name": "ipython",
    "version": 3
   },
   "file_extension": ".py",
   "mimetype": "text/x-python",
   "name": "python",
   "nbconvert_exporter": "python",
   "pygments_lexer": "ipython3",
   "version": "3.7.3"
  }
 },
 "nbformat": 4,
 "nbformat_minor": 2
}
