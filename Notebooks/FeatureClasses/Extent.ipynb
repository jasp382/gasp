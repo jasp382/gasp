{
 "cells": [
  {
   "cell_type": "markdown",
   "metadata": {},
   "source": [
    "# Geographic Extent Related #"
   ]
  },
  {
   "cell_type": "markdown",
   "metadata": {},
   "source": [
    "### Point to Boundary using tolerance in meters ###"
   ]
  },
  {
   "cell_type": "code",
   "execution_count": null,
   "metadata": {},
   "outputs": [],
   "source": [
    "from gasp.gt.to.shp import pnts_to_boundary; import os\n",
    "\n",
    "PNT_SHP = [\n",
    "    '/home/jasp/osm2lulc/pnt_rome.shp'\n",
    "]\n",
    "outSHPS = [\n",
    "    '/home/jasp/osm2lulc/lmt_rome_10x10.shp'\n",
    "]\n",
    "tolerances = 5000\n",
    "\n",
    "for i in range(len(PNT_SHP)):\n",
    "    pnts_to_boundary(PNT_SHP[i], outSHPS[i], tolerances)"
   ]
  },
  {
   "cell_type": "markdown",
   "metadata": {},
   "source": [
    "### Data Extent to Boundary or Raster ###"
   ]
  },
  {
   "cell_type": "code",
   "execution_count": null,
   "metadata": {},
   "outputs": [],
   "source": [
    "from gasp.gt.to import fext_to_geof\n",
    "\n",
    "fext_to_geof(\n",
    "    '/home/jasp/osm2lulc/lmt_rome_10x10.shp',\n",
    "    '/home/jasp/osm2lulc/lmt_rome_10x10_2x2.tif', ocellsize=2\n",
    ")"
   ]
  },
  {
   "cell_type": "code",
   "execution_count": null,
   "metadata": {},
   "outputs": [],
   "source": []
  }
 ],
 "metadata": {
  "kernelspec": {
   "display_name": "Python 3",
   "language": "python",
   "name": "python3"
  },
  "language_info": {
   "codemirror_mode": {
    "name": "ipython",
    "version": 3
   },
   "file_extension": ".py",
   "mimetype": "text/x-python",
   "name": "python",
   "nbconvert_exporter": "python",
   "pygments_lexer": "ipython3",
   "version": "3.6.8"
  }
 },
 "nbformat": 4,
 "nbformat_minor": 2
}
