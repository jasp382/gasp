{
 "cells": [
  {
   "cell_type": "code",
   "execution_count": null,
   "metadata": {},
   "outputs": [],
   "source": [
    "\"\"\"\n",
    "Merge\n",
    "\"\"\"\n",
    "\n",
    "from gasp3.gt.to.shp import shps_to_shp\n",
    "\n",
    "inshps = r'D:\\gisbrary\\Terrain\\AltimPT_1-25000\\525-612'\n",
    "outShp = r'D:\\gisbrary\\Terrain\\AltimPT_1-25000\\alt_525_612.shp'\n",
    "\n",
    "shps_to_shp(inshps, outShp, api=\"ogr2ogr\", fformat='.shp')"
   ]
  },
  {
   "cell_type": "code",
   "execution_count": null,
   "metadata": {},
   "outputs": [],
   "source": []
  }
 ],
 "metadata": {
  "kernelspec": {
   "display_name": "Python 3",
   "language": "python",
   "name": "python3"
  },
  "language_info": {
   "codemirror_mode": {
    "name": "ipython",
    "version": 3
   },
   "file_extension": ".py",
   "mimetype": "text/x-python",
   "name": "python",
   "nbconvert_exporter": "python",
   "pygments_lexer": "ipython3",
   "version": "3.7.3"
  }
 },
 "nbformat": 4,
 "nbformat_minor": 2
}
