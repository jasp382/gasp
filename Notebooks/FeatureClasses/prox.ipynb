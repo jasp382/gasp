{
 "cells": [
  {
   "cell_type": "code",
   "execution_count": 1,
   "metadata": {},
   "outputs": [
    {
     "name": "stdout",
     "output_type": "stream",
     "text": [
      "0:00:59\n"
     ]
    }
   ],
   "source": [
    "\"\"\"\n",
    "Buffer Analysis with GIS\n",
    "\"\"\"\n",
    "\n",
    "import datetime\n",
    "from gasp.anls.prox.bf import _buffer\n",
    "\n",
    "IN_SHP = r'D:\\indev\\OSM2LULC\\WEB_Via\\tst_tools\\mil_lroads.shp'\n",
    "OU_SHP = r'D:\\indev\\OSM2LULC\\WEB_Via\\tst_tools\\mil_bf_arcg.shp'\n",
    "RADIUS = 'bf_roads'\n",
    "API    = 'arcpy'\n",
    "\n",
    "time_a = datetime.datetime.now().replace(microsecond=0)\n",
    "_buffer(IN_SHP, RADIUS, OU_SHP, api=API, dissolve=\"ALL\")\n",
    "time_b = datetime.datetime.now().replace(microsecond=0)\n",
    "\n",
    "print time_b - time_a"
   ]
  },
  {
   "cell_type": "code",
   "execution_count": null,
   "metadata": {},
   "outputs": [],
   "source": []
  }
 ],
 "metadata": {
  "kernelspec": {
   "display_name": "Python 2",
   "language": "python",
   "name": "python2"
  },
  "language_info": {
   "codemirror_mode": {
    "name": "ipython",
    "version": 2
   },
   "file_extension": ".py",
   "mimetype": "text/x-python",
   "name": "python",
   "nbconvert_exporter": "python",
   "pygments_lexer": "ipython2",
   "version": "2.7.14"
  }
 },
 "nbformat": 4,
 "nbformat_minor": 2
}
