{
 "cells": [
  {
   "cell_type": "markdown",
   "metadata": {},
   "source": [
    "# Download OSM Data from Web #\n",
    "\n",
    "This method uses de OSM Overpass API to get OSM data from the Web"
   ]
  },
  {
   "cell_type": "code",
   "execution_count": null,
   "metadata": {},
   "outputs": [],
   "source": [
    "from gasp3.dt.osm import download_by_boundary\n",
    "\n",
    "inBoundary = r'F:\\phd_auto_sat_class\\lmt\\lmt_h.shp'\n",
    "outOsm = r'F:\\phd_auto_sat_class\\osmdata\\osm_heidelberg.xml'\n",
    "\n",
    "EPSG = 32632\n",
    "\n",
    "download_by_boundary(inBoundary, outOsm, EPSG)"
   ]
  },
  {
   "cell_type": "code",
   "execution_count": null,
   "metadata": {},
   "outputs": [],
   "source": []
  }
 ],
 "metadata": {
  "kernelspec": {
   "display_name": "Python 3",
   "language": "python",
   "name": "python3"
  },
  "language_info": {
   "codemirror_mode": {
    "name": "ipython",
    "version": 3
   },
   "file_extension": ".py",
   "mimetype": "text/x-python",
   "name": "python",
   "nbconvert_exporter": "python",
   "pygments_lexer": "ipython3",
   "version": "3.7.3"
  }
 },
 "nbformat": 4,
 "nbformat_minor": 2
}
