{
 "cells": [
  {
   "cell_type": "code",
   "execution_count": 1,
   "metadata": {},
   "outputs": [
    {
     "data": {
      "text/plain": [
       "'F:\\\\phd_auto_sat_class\\\\lmt\\\\fishnet_4326.shp'"
      ]
     },
     "execution_count": 1,
     "metadata": {},
     "output_type": "execute_result"
    }
   ],
   "source": [
    "from gasp3.gt.mng.sample import create_fishnet\n",
    "\n",
    "inExt  = r'F:\\phd_auto_sat_class\\lmt\\lmt_4326.shp'\n",
    "outFish= r'F:\\phd_auto_sat_class\\lmt\\fishnet_4326.shp'\n",
    "\n",
    "create_fishnet(inExt, outFish, rowN=2, colN=2)"
   ]
  },
  {
   "cell_type": "code",
   "execution_count": null,
   "metadata": {},
   "outputs": [],
   "source": []
  }
 ],
 "metadata": {
  "kernelspec": {
   "display_name": "Python 3",
   "language": "python",
   "name": "python3"
  },
  "language_info": {
   "codemirror_mode": {
    "name": "ipython",
    "version": 3
   },
   "file_extension": ".py",
   "mimetype": "text/x-python",
   "name": "python",
   "nbconvert_exporter": "python",
   "pygments_lexer": "ipython3",
   "version": "3.7.3"
  }
 },
 "nbformat": 4,
 "nbformat_minor": 2
}
