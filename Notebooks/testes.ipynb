{
 "cells": [
  {
   "cell_type": "code",
   "execution_count": null,
   "metadata": {},
   "outputs": [],
   "source": [
    "import multiprocessing\n",
    "print(multiprocessing.cpu_count())"
   ]
  },
  {
   "cell_type": "code",
   "execution_count": null,
   "metadata": {},
   "outputs": [],
   "source": [
    "import os\n",
    "\n",
    "print(os.cpu_count())"
   ]
  },
  {
   "cell_type": "code",
   "execution_count": 1,
   "metadata": {},
   "outputs": [],
   "source": [
    "\"\"\"\n",
    "Run DEM tool using multiprocessing\n",
    "\"\"\"\n",
    "\n",
    "ref   = r'C:\\gwork\\fireloc\\datasets\\ref\\pt_ref_grid.shp'\n",
    "dtfld = r'C:\\gwork\\fireloc\\datasets\\mdt_m888'\n",
    "elv_fld = 'ELEVATION'\n",
    "\n",
    "import os; import datetime as dt\n",
    "import numpy as np\n",
    "import multiprocessing as mp\n",
    "from gasp3.fm          import tbl_to_obj\n",
    "from gasp3.g.gop.prox  import df_buffer_extent\n",
    "from gasp3.gt.prop.prj import get_epsg_shp\n",
    "from gasp3.gt.to.shp import coords_to_boundary\n",
    "from gasp3.pyt.oss import create_folder\n",
    "from gasp3.gt.gop.ovlay import clip\n",
    "from gasp3.pyt.oss import fld_exists\n",
    "from gasp3.pyt.oss import cpu_cores, lst_ff\n",
    "from gasp3.df.split import df_split\n",
    "from gasp3.gd.terrain import make_dem\n",
    "\n",
    "n_cpu   = cpu_cores()\n",
    "grid_df = tbl_to_obj(ref)\n",
    "dfs     = df_split(grid_df, n_cpu)\n",
    "\n",
    "def dem_thread(df, fld):\n",
    "    for idx, row in df.iterrows():\n",
    "        workspace = os.path.join(fld, 'data_' + str(row[cell_id]))\n",
    "        \n",
    "        ext_lmt = os.path.join(workspace, 'extra_lmt_{}.shp'.format(str(row[cell_id])))\n",
    "        alti = os.path.join(workspace,  'alti_{}.shp'.format(str(row[cell_id])))\n",
    "        \n",
    "        # Check if dem is already there\n",
    "        dem_f = 'dem_{}.tif'.format(str(row[cell_id]))\n",
    "        ff = lst_ff(workspace, file_format='tif', rfilename=True)\n",
    "        \n",
    "        if dem_f in ff:\n",
    "            continue\n",
    "        \n",
    "        # Produce dem\n",
    "        outdem = os.path.join(workspace, dem_f)\n",
    "        make_dem(workspace, alti, elv_fld, outdem, ext_lmt, \n",
    "                 method=\"CONTOUR\", cell_size=10)\n",
    "\n",
    "thrds = [mp.Process(\n",
    "    name='th_' + str(i), target=dem_thread, args(dfs[i], dtfld)\n",
    ") for i in range(len(dfs))]\n",
    "\n",
    "for t in thrds:\n",
    "    t.start()\n",
    "\n",
    "for t in thrds:\n",
    "    t.join()"
   ]
  },
  {
   "cell_type": "code",
   "execution_count": 3,
   "metadata": {},
   "outputs": [],
   "source": []
  },
  {
   "cell_type": "code",
   "execution_count": null,
   "metadata": {},
   "outputs": [],
   "source": []
  },
  {
   "cell_type": "code",
   "execution_count": null,
   "metadata": {},
   "outputs": [],
   "source": []
  }
 ],
 "metadata": {
  "kernelspec": {
   "display_name": "Python 3",
   "language": "python",
   "name": "python3"
  },
  "language_info": {
   "codemirror_mode": {
    "name": "ipython",
    "version": 3
   },
   "file_extension": ".py",
   "mimetype": "text/x-python",
   "name": "python",
   "nbconvert_exporter": "python",
   "pygments_lexer": "ipython3",
   "version": "3.7.3"
  }
 },
 "nbformat": 4,
 "nbformat_minor": 2
}
