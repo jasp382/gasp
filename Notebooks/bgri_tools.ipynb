{
 "cells": [
  {
   "cell_type": "code",
   "execution_count": null,
   "metadata": {},
   "outputs": [],
   "source": [
    "from gasp.ine.bgri import join_bgrishp_with_bgridata\n",
    "import os\n",
    "WORKSPACE = r'D:\\indev\\JUSTSIDE\\fridao\\bgri_2011'\n",
    "\n",
    "FILES = [\"BGRI11_LISBOA\", \"BGRI11_ALENTEJO\", \"BGRI11_ALGARVE\"]\n",
    "shp = r'D:\\indev\\JUSTSIDE\\fridao\\bgri_2011\\BGRI11_NORTE.shp'\n",
    "csv = r'D:\\indev\\JUSTSIDE\\fridao\\bgri_2011\\BGRI11_NORTE.csv'\n",
    "out = [\"DATA_LISBOA.shp\", \"DATA_ALENTEJO.shp\", \"DATA_ALGARVE.shp\"]\n",
    "\n",
    "dataFields = [\n",
    "    \"N_INDIVIDUOS_PRESENT\", \"N_INDIVIDUOS_RESIDENT\",\n",
    "    \"N_INDIVIDUOS_RESIDENT_0A4\", \"N_INDIVIDUOS_RESIDENT_5A9\", \"N_INDIVIDUOS_RESIDENT_10A13\",\n",
    "    \"N_INDIVIDUOS_RESIDENT_14A19\", \"N_INDIVIDUOS_RESIDENT_15A19\",\"N_INDIVIDUOS_RESIDENT_20A24\",\n",
    "    \"N_INDIVIDUOS_RESIDENT_20A64\", \"N_INDIVIDUOS_RESIDENT_25A64\", \"N_INDIVIDUOS_RESIDENT_65\",\n",
    "    \"N_INDIV_RESIDENT_N_LER_ESCRV\",\"N_IND_RESIDENT_FENSINO_1BAS\",\"N_IND_RESIDENT_FENSINO_2BAS\",\n",
    "    \"N_IND_RESIDENT_FENSINO_3BAS\",\"N_IND_RESIDENT_FENSINO_SEC\", \"N_IND_RESIDENT_FENSINO_POSSEC\",\n",
    "    \"N_IND_RESIDENT_FENSINO_SUP\", \"N_IND_RESIDENT_ENSINCOMP_1BAS\", \"N_IND_RESIDENT_ENSINCOMP_2BAS\",\n",
    "    \"N_IND_RESIDENT_ENSINCOMP_3BAS\",\"N_IND_RESIDENT_ENSINCOMP_SEC\", \"N_IND_RESIDENT_ENSINCOMP_POSEC\",\n",
    "    \"N_IND_RESIDENT_ENSINCOMP_SUP\"\n",
    "]\n",
    "\n",
    "newFields = [\n",
    "    \"ni_pre\", \"ni_res\", \"i_res0a4\", \"i_res5a9\", \"i_res10a13\",\n",
    "    \"i_res14a19\", \"i_res15a19\",\"i_res20a24\",\n",
    "    \"i_res20a64\", \"i_res25a64\", \"i_res65\",\n",
    "    \"nler_esc\",\"f1bas\",\"f2bas\", \"f3bas\",\"fsec\", \"fpro\",\"fsup\", \"c1bas\", \"c2bas\",\n",
    "    \"c3bas\",\"csec\", \"cpro\", \"csup\"\n",
    "]\n",
    "\n",
    "for i in range(len(FILES)):\n",
    "    join_bgrishp_with_bgridata(\n",
    "        os.path.join(WORKSPACE, FILES[i] + '.shp'),\n",
    "        os.path.join(WORKSPACE, FILES[i] + '.csv'),\n",
    "        os.path.join(WORKSPACE, out[i]),\n",
    "        shpJoinField=\"BGRI11\", dataJoinField=\"GEO_COD\",\n",
    "        joinFieldsMantain=dataFields,\n",
    "        newNames=newFields\n",
    "    )"
   ]
  },
  {
   "cell_type": "code",
   "execution_count": null,
   "metadata": {},
   "outputs": [],
   "source": []
  }
 ],
 "metadata": {
  "kernelspec": {
   "display_name": "Python 2",
   "language": "python",
   "name": "python2"
  },
  "language_info": {
   "codemirror_mode": {
    "name": "ipython",
    "version": 2
   },
   "file_extension": ".py",
   "mimetype": "text/x-python",
   "name": "python",
   "nbconvert_exporter": "python",
   "pygments_lexer": "ipython2",
   "version": "2.7.15"
  }
 },
 "nbformat": 4,
 "nbformat_minor": 2
}
