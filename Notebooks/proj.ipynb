{
 "cells": [
  {
   "cell_type": "code",
   "execution_count": 1,
   "metadata": {},
   "outputs": [
    {
     "data": {
      "text/plain": [
       "'/home/jasp/osmtolulc_debug/lmt/ref_wgs_phila.tif'"
      ]
     },
     "execution_count": 1,
     "metadata": {},
     "output_type": "execute_result"
    }
   ],
   "source": [
    "\"\"\"\n",
    "Re-project a raster\n",
    "\"\"\"\n",
    "\n",
    "from gasp.mng.prj import gdal_reproject_raster\n",
    "\n",
    "IN_RST   = '/home/jasp/osmtolulc_debug/lmt/ref_rst_phila.tif'\n",
    "OUT_RST  = '/home/jasp/osmtolulc_debug/lmt/ref_wgs_phila.tif'\n",
    "IN_EPSG  = 3857\n",
    "OUT_EPSG = 4326\n",
    "\n",
    "gdal_reproject_raster(IN_RST, OUT_RST, IN_EPSG, OUT_EPSG)"
   ]
  },
  {
   "cell_type": "code",
   "execution_count": null,
   "metadata": {},
   "outputs": [],
   "source": []
  }
 ],
 "metadata": {
  "kernelspec": {
   "display_name": "Python 2",
   "language": "python",
   "name": "python2"
  },
  "language_info": {
   "codemirror_mode": {
    "name": "ipython",
    "version": 2
   },
   "file_extension": ".py",
   "mimetype": "text/x-python",
   "name": "python",
   "nbconvert_exporter": "python",
   "pygments_lexer": "ipython2",
   "version": "2.7.15rc1"
  }
 },
 "nbformat": 4,
 "nbformat_minor": 2
}
