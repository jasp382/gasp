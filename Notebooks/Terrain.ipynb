{
 "cells": [
  {
   "cell_type": "code",
   "execution_count": null,
   "metadata": {},
   "outputs": [],
   "source": [
    "from gasp.terrain.grs import make_DEM\n",
    "\n",
    "GRASS_WORKSPACE  = r'D:\\indev\\mdt_tst'\n",
    "ELEVATION_DATA   = r'D:\\indev\\mdt_tst\\elevation_data.shp'\n",
    "ELEVATION_COLUMN = 'ELEVATION'\n",
    "OUT_DEM          = r'D:\\indev\\mdt_tst\\dem_contour.tif'\n",
    "EXTENT_TEMPLATE  = r'D:\\indev\\mdt_tst\\raster_referencia.tif'\n",
    "METHOD           = \"CONTOUR\"\n",
    "\n",
    "make_DEM(\n",
    "    GRASS_WORKSPACE, ELEVATION_DATA, ELEVATION_COLUMN,\n",
    "    OUT_DEM, EXTENT_TEMPLATE, method=METHOD\n",
    ")"
   ]
  },
  {
   "cell_type": "code",
   "execution_count": null,
   "metadata": {},
   "outputs": [],
   "source": []
  }
 ],
 "metadata": {
  "kernelspec": {
   "display_name": "Python 3",
   "language": "python",
   "name": "python3"
  },
  "language_info": {
   "codemirror_mode": {
    "name": "ipython",
    "version": 3
   },
   "file_extension": ".py",
   "mimetype": "text/x-python",
   "name": "python",
   "nbconvert_exporter": "python",
   "pygments_lexer": "ipython3",
   "version": "3.7.3"
  }
 },
 "nbformat": 4,
 "nbformat_minor": 2
}
