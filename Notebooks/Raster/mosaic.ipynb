{
 "cells": [
  {
   "cell_type": "code",
   "execution_count": null,
   "metadata": {},
   "outputs": [],
   "source": [
    "from gasp.gt.nop.mos import rsts_to_mosaic\n",
    "\n",
    "in_rst = [\n",
    "    '/home/jasp/datasets/mdt_m888/rsurfcountour_50/dem_75.tif',\n",
    "    '/home/jasp/datasets/mdt_m888/rsurfcountour_50/dem_76.tif',\n",
    "    '/home/jasp/datasets/mdt_m888/rsurfcountour_50/dem_77.tif',\n",
    "    '/home/jasp/datasets/mdt_m888/rsurfcountour_50/dem_104.tif',\n",
    "    '/home/jasp/datasets/mdt_m888/rsurfcountour_50/dem_105.tif',\n",
    "    '/home/jasp/datasets/mdt_m888/rsurfcountour_50/dem_106.tif',\n",
    "    '/home/jasp/datasets/mdt_m888/rsurfcountour_50/dem_133.tif',\n",
    "    '/home/jasp/datasets/mdt_m888/rsurfcountour_50/dem_134.tif',\n",
    "    '/home/jasp/datasets/mdt_m888/rsurfcountour_50/dem_135.tif',\n",
    "]\n",
    "\n",
    "out_rst = '/home/jasp/xyz/mdt_tst.tif'\n",
    "\n",
    "rsts_to_mosaic(in_rst, out_rst, api='rasterio')"
   ]
  },
  {
   "cell_type": "code",
   "execution_count": null,
   "metadata": {},
   "outputs": [],
   "source": []
  }
 ],
 "metadata": {
  "kernelspec": {
   "display_name": "Python 3",
   "language": "python",
   "name": "python3"
  },
  "language_info": {
   "codemirror_mode": {
    "name": "ipython",
    "version": 3
   },
   "file_extension": ".py",
   "mimetype": "text/x-python",
   "name": "python",
   "nbconvert_exporter": "python",
   "pygments_lexer": "ipython3",
   "version": "3.6.8"
  }
 },
 "nbformat": 4,
 "nbformat_minor": 2
}
