{
 "cells": [
  {
   "cell_type": "markdown",
   "metadata": {},
   "source": [
    "### Folder with SHP to SHP with other formats  ###"
   ]
  },
  {
   "cell_type": "code",
   "execution_count": 1,
   "metadata": {},
   "outputs": [],
   "source": [
    "import os\n",
    "from gasp3.dt.to.shp import shp_to_shp\n",
    "from gasp3.pyt.oss import list_files, get_filename\n",
    "\n",
    "IN_FOLDER      = '/home/jasp'\n",
    "OUT_FOLDER     = '/home/jasp'\n",
    "IN_SHP_FORMAT  = '.shp'\n",
    "OUT_SHP_FORMAT = '.json'\n",
    "\n",
    "inShps = list_files(IN_FOLDER, file_format=IN_SHP_FORMAT)\n",
    "\n",
    "for shp in inShps:\n",
    "    shp_to_shp(shp, os.path.join(OUT_FOLDER, get_filename(shp) + OUT_SHP_FORMAT))"
   ]
  },
  {
   "cell_type": "code",
   "execution_count": null,
   "metadata": {},
   "outputs": [],
   "source": []
  }
 ],
 "metadata": {
  "kernelspec": {
   "display_name": "Python 3",
   "language": "python",
   "name": "python3"
  },
  "language_info": {
   "codemirror_mode": {
    "name": "ipython",
    "version": 3
   },
   "file_extension": ".py",
   "mimetype": "text/x-python",
   "name": "python",
   "nbconvert_exporter": "python",
   "pygments_lexer": "ipython3",
   "version": "3.6.8"
  }
 },
 "nbformat": 4,
 "nbformat_minor": 2
}
