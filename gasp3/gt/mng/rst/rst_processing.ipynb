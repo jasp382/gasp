{
 "cells": [
  {
   "cell_type": "code",
   "execution_count": null,
   "metadata": {},
   "outputs": [],
   "source": [
    "\"\"\"\n",
    "Resampling Sentinel Data and Clip\n",
    "\"\"\"\n",
    "\n",
    "import os\n",
    "\n",
    "bf10 = r'D:\\indev\\matereo\\o_bands_2006'\n",
    "\n",
    "refRaster = os.path.join(bf10, 'T33WWR_20190620T105039_B02_10m.jp2')\n",
    "\n",
    "bands = [\n",
    "    os.path.join(bf10, 'T33WWR_20190620T105039_B02_10m.jp2'),\n",
    "    os.path.join(bf10, 'T33WWR_20190620T105039_B03_10m.jp2'),\n",
    "    os.path.join(bf10, 'T33WWR_20190620T105039_B04_10m.jp2'),\n",
    "    os.path.join(bf10, 'T33WWR_20190620T105039_B08_10m.jp2'),\n",
    "    os.path.join(bf10, 'T33WWR_20190620T105039_B05_20m.jp2'),\n",
    "    os.path.join(bf10, 'T33WWR_20190620T105039_B06_20m.jp2'),\n",
    "    os.path.join(bf10, 'T33WWR_20190620T105039_B07_20m.jp2'),\n",
    "    os.path.join(bf10, 'T33WWR_20190620T105039_B8A_20m.jp2'),\n",
    "    os.path.join(bf10, 'T33WWR_20190620T105039_B11_20m.jp2'),\n",
    "    os.path.join(bf10, 'T33WWR_20190620T105039_B12_20m.jp2'),\n",
    "]\n",
    "\n",
    "clipShp = r'D:\\indev\\matereo\\lmt\\lmt_hba.shp'\n",
    "\n",
    "resultFolder = r'D:\\indev\\matereo\\all_bands_10m_2006'\n",
    "\n",
    "from gasp3.gt.mng.rst.rmp import match_cellsize_and_clip\n",
    "\n",
    "match_cellsize_and_clip(bands, refRaster, resultFolder, clipShp=clipShp)"
   ]
  },
  {
   "cell_type": "code",
   "execution_count": null,
   "metadata": {},
   "outputs": [],
   "source": [
    "from gasp3.gt.mng.rst import comp_bnds\n",
    "from gasp3.pyt.oss import list_files\n",
    "\n",
    "files = list_files(r'D:\\indev\\matereo\\water_bands_2006', file_format='.tif')\n",
    "#files.remove(r'D:\\indev\\matereo\\water_bands\\natural_color.tif')\n",
    "\n",
    "print(files)"
   ]
  },
  {
   "cell_type": "code",
   "execution_count": null,
   "metadata": {},
   "outputs": [],
   "source": [
    "comp_bnds(files, r'D:\\indev\\matereo\\water_bands_2006\\comp_bnds_2006.tif')"
   ]
  },
  {
   "cell_type": "code",
   "execution_count": null,
   "metadata": {},
   "outputs": [],
   "source": []
  }
 ],
 "metadata": {
  "kernelspec": {
   "display_name": "Python 3",
   "language": "python",
   "name": "python3"
  },
  "language_info": {
   "codemirror_mode": {
    "name": "ipython",
    "version": 3
   },
   "file_extension": ".py",
   "mimetype": "text/x-python",
   "name": "python",
   "nbconvert_exporter": "python",
   "pygments_lexer": "ipython3",
   "version": "3.7.3"
  }
 },
 "nbformat": 4,
 "nbformat_minor": 2
}
