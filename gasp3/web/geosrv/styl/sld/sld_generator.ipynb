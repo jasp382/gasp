{
 "cells": [
  {
   "cell_type": "markdown",
   "metadata": {},
   "source": [
    "### Generate Style Layer Descriptor for a Raster Dataset ###"
   ]
  },
  {
   "cell_type": "code",
   "execution_count": null,
   "metadata": {},
   "outputs": [],
   "source": [
    "SYMBOLOGY_RULES = {\n",
    "    593.3 : {\"COLOR\" :(175, 240, 233), \"LABEL\" : \"310 - 593.3\", \"OPACITY\" : 0.95},\n",
    "    817.7 : {\"COLOR\" :(210, 232, 137), \"LABEL\" : \"593.4 - 817.3\", \"OPACITY\" : 0.95},\n",
    "    1034.7 : {\"COLOR\" :(100, 148, 52), \"LABEL\" : \"817.4 - 1034.7\", \"OPACITY\" : 0.95},\n",
    "    1245.5 : {\"COLOR\" :(189, 70, 2), \"LABEL\" : \"1034.8 - 1245.5\", \"OPACITY\" : 0.95},\n",
    "    1462.9 : {\"COLOR\" :(110, 37, 9), \"LABEL\" : \"1245.6 - 1462.9\", \"OPACITY\" : 0.95},\n",
    "    1673.8 : {\"COLOR\" :(163, 147, 137), \"LABEL\" : \"1463 - 1673.8\", \"OPACITY\" : 0.95},\n",
    "    1990 : {\"COLOR\" :(255, 252, 255), \"LABEL\" : \"1673.9 - 1990\", \"OPACITY\" : 0.95}\n",
    "}\n",
    "\n",
    "DATA_TYPE = \"FLOATING\"\n",
    "\n",
    "OUT_FILE = r'D:\\indev\\xyz\\sld_dem.sld'\n",
    "\n",
    "from gasp.ogcsld import write_raster_sld\n",
    "\n",
    "write_raster_sld(SYMBOLOGY_RULES, OUT_FILE, dataType=DATA_TYPE)"
   ]
  },
  {
   "cell_type": "code",
   "execution_count": 1,
   "metadata": {},
   "outputs": [
    {
     "name": "stdout",
     "output_type": "stream",
     "text": [
      "[{u'blue': 228L, u'opacity': 100L, u'style': 2L, u'stk_red': 201L, u'stk_green': 145L, u'stk_blue': 120L, u'green': 184L, u'fid': 7L, 'categoria': 'a_0', u'quality': None, u'order': 1L, u'red': 137L}, {u'blue': 198L, u'opacity': 100L, u'style': 2L, u'stk_red': 181L, u'stk_green': 116L, u'stk_blue': 89L, u'green': 154L, u'fid': 8L, 'categoria': 'a_10', u'quality': None, u'order': 2L, u'red': 108L}, {u'blue': 167L, u'opacity': 100L, u'style': 2L, u'stk_red': 151L, u'stk_green': 86L, u'stk_blue': 60L, u'green': 124L, u'fid': 9L, 'categoria': 'a_20', u'quality': None, u'order': 3L, u'red': 77L}, {u'blue': 152L, u'opacity': 100L, u'style': 2L, u'stk_red': 137L, u'stk_green': 72L, u'stk_blue': 45L, u'green': 109L, u'fid': 10L, 'categoria': 'a_30', u'quality': None, u'order': 4L, u'red': 68L}, {u'blue': 138L, u'opacity': 100L, u'style': 2L, u'stk_red': 119L, u'stk_green': 58L, u'stk_blue': 32L, u'green': 95L, u'fid': 11L, 'categoria': 'a_40', u'quality': None, u'order': 5L, u'red': 48L}, {u'blue': 123L, u'opacity': 100L, u'style': 2L, u'stk_red': 103L, u'stk_green': 52L, u'stk_blue': 36L, u'green': 80L, u'fid': 12L, 'categoria': 'a_50', u'quality': None, u'order': 6L, u'red': 31L}, {u'blue': 108L, u'opacity': 100L, u'style': 2L, u'stk_red': 82L, u'stk_green': 42L, u'stk_blue': 33L, u'green': 65L, u'fid': 13L, 'categoria': 'a_60', u'quality': None, u'order': 7L, u'red': 13L}]\n"
     ]
    }
   ],
   "source": [
    "from gasp.fm.psql import query_to_df\n",
    "\n",
    "con_psql = {\n",
    "    'HOST' : 'localhost', 'USER' : 'postgres', 'PASSWORD' : 'admin',\n",
    "    'DATABASE' : \"justside_db\", 'PORT' : '5432'\n",
    "}\n",
    "symb_table = query_to_df(con_psql, \"SELECT * FROM atlas_sld_rules WHERE style=2\")\n",
    "\n",
    "symb_rules = symb_table.to_dict(orient=\"records\")\n",
    "\n",
    "c=0\n",
    "for i in range(len(symb_rules)):\n",
    "    symb_rules[i][\"categoria\"] = \"a_\" + str(c)\n",
    "    #symb_rules[i][\"max\"] = c +10\n",
    "    c+=10\n",
    "\n",
    "print symb_rules"
   ]
  },
  {
   "cell_type": "code",
   "execution_count": 2,
   "metadata": {},
   "outputs": [],
   "source": [
    "map_dic_cols = {\n",
    "    'r' : 'red', 'g': 'green', 'b' : 'blue', 'stroke_r' : 'stk_red',\n",
    "    'stroke_g' : 'stk_green', 'stroke_b' : 'stk_blue',\n",
    "    'category' : 'categoria'\n",
    "    #'interval_min' : 'min', 'interval_max' : 'max'\n",
    "}\n",
    "\n",
    "from gasp.ogcsld import write_sld\n",
    "\n",
    "d = write_sld(\"teste\", symb_rules, map_dic_cols, r'D:\\xpto\\teste3.sld', DATA='CATEGORICAL')"
   ]
  },
  {
   "cell_type": "code",
   "execution_count": 3,
   "metadata": {},
   "outputs": [
    {
     "data": {
      "text/plain": [
       "[76.44,\n",
       " 79.65214285714285,\n",
       " 82.8642857142857,\n",
       " 86.07642857142855,\n",
       " 89.2885714285714,\n",
       " 92.50071428571425,\n",
       " 95.7128571428571,\n",
       " 98.925]"
      ]
     },
     "execution_count": 3,
     "metadata": {},
     "output_type": "execute_result"
    }
   ],
   "source": [
    "from gasp.datacat import _get_equal_int_\n",
    "_get_equal_int_(98.925, 76.44, 7)"
   ]
  },
  {
   "cell_type": "code",
   "execution_count": 7,
   "metadata": {},
   "outputs": [
    {
     "data": {
      "text/plain": [
       "98.92"
      ]
     },
     "execution_count": 7,
     "metadata": {},
     "output_type": "execute_result"
    }
   ],
   "source": [
    "round(98.925, 2)"
   ]
  },
  {
   "cell_type": "code",
   "execution_count": 13,
   "metadata": {},
   "outputs": [
    {
     "name": "stdout",
     "output_type": "stream",
     "text": [
      "93\n",
      "98.93\n"
     ]
    }
   ],
   "source": [
    "def myround(val, rnd):\n",
    "    dp = str(val).split('.')[1]\n",
    "    \n",
    "    mantain = str(int(dp[:rnd]) + 1) if int(dp[rnd]) >=5 else dp[:rnd]\n",
    "    print mantain\n",
    "    \n",
    "    return int(val) + float('0.{}'.format(mantain))\n",
    "\n",
    "print myround(98.926, 2)"
   ]
  },
  {
   "cell_type": "code",
   "execution_count": null,
   "metadata": {},
   "outputs": [],
   "source": []
  }
 ],
 "metadata": {
  "kernelspec": {
   "display_name": "Python 2",
   "language": "python",
   "name": "python2"
  },
  "language_info": {
   "codemirror_mode": {
    "name": "ipython",
    "version": 2
   },
   "file_extension": ".py",
   "mimetype": "text/x-python",
   "name": "python",
   "nbconvert_exporter": "python",
   "pygments_lexer": "ipython2",
   "version": "2.7.16"
  }
 },
 "nbformat": 4,
 "nbformat_minor": 2
}
