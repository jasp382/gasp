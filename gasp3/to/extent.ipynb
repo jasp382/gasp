{
 "cells": [
  {
   "cell_type": "markdown",
   "metadata": {},
   "source": [
    "### Top Left and Lower Right to Boundary ###"
   ]
  },
  {
   "cell_type": "code",
   "execution_count": null,
   "metadata": {},
   "outputs": [],
   "source": [
    "from gasp3.to.shp import coords_to_boundary\n",
    "\n",
    "TOP_LEFT    = (16.4789, 68.5588)\n",
    "LOWER_RIGHT = (17.7556, 68.3362)\n",
    "EPSG        = 4326\n",
    "RESULT      = r'D:\\indev\\matereo\\lmt\\lmt_hba.shp'\n",
    "OUT_EPSG    = 32633\n",
    "\n",
    "coords_to_boundary(TOP_LEFT, LOWER_RIGHT, EPSG, RESULT, outEpsg=OUT_EPSG)"
   ]
  },
  {
   "cell_type": "code",
   "execution_count": null,
   "metadata": {},
   "outputs": [],
   "source": []
  }
 ],
 "metadata": {
  "kernelspec": {
   "display_name": "Python 3",
   "language": "python",
   "name": "python3"
  },
  "language_info": {
   "codemirror_mode": {
    "name": "ipython",
    "version": 3
   },
   "file_extension": ".py",
   "mimetype": "text/x-python",
   "name": "python",
   "nbconvert_exporter": "python",
   "pygments_lexer": "ipython3",
   "version": "3.7.3"
  }
 },
 "nbformat": 4,
 "nbformat_minor": 2
}
