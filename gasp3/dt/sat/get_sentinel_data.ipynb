{
 "cells": [
  {
   "cell_type": "code",
   "execution_count": null,
   "metadata": {},
   "outputs": [],
   "source": [
    "\"\"\"\n",
    "Get Products List\n",
    "\"\"\"\n",
    "\n",
    "# Inputs\n",
    "shpExtent = '/home/jasp/matereo/lmt_hba.shp'\n",
    "start_time = \"20190501\" # Use YYYY-MM-DD Format\n",
    "end_time = \"20190517\"\n",
    "user = 'jpatriarca'\n",
    "password = 'gintoki++0012tensazangetsu'\n",
    "out_results = '/home/jasp/matereo/results_before.shp'\n",
    "processingL = 'Level-2A'\n",
    "\n",
    "from gasp3.dt.sat.down import lst_prod\n",
    "\n",
    "lst_prod(\n",
    "    shpExtent, start_time, end_time, user, password, our_results,\n",
    "    \"Sentinel-2\", processingL\n",
    ")"
   ]
  },
  {
   "cell_type": "code",
   "execution_count": null,
   "metadata": {},
   "outputs": [],
   "source": [
    "\"\"\"\n",
    "DOWNLOAD Images in Shapefile\n",
    "\"\"\"\n",
    "\n",
    "user = 'jpatriarca'\n",
    "password = 'gintoki++0012tensazangetsu'\n",
    "IN_SHP = '/home/jasp/matereo/img_12may.shp'\n",
    "OUT_FOLDER = '/home/jasp/matereo'\n",
    "\n",
    "from gasp3.dt.sat.down import down_imgs\n",
    "\n",
    "down_imgs(\n",
    "    IN_SHP, user, password, 'ruuid', outFolder=OUT_FOLDER\n",
    ")"
   ]
  },
  {
   "cell_type": "code",
   "execution_count": null,
   "metadata": {},
   "outputs": [],
   "source": []
  }
 ],
 "metadata": {
  "kernelspec": {
   "display_name": "Python 3",
   "language": "python",
   "name": "python3"
  },
  "language_info": {
   "codemirror_mode": {
    "name": "ipython",
    "version": 3
   },
   "file_extension": ".py",
   "mimetype": "text/x-python",
   "name": "python",
   "nbconvert_exporter": "python",
   "pygments_lexer": "ipython3",
   "version": "3.7.3"
  }
 },
 "nbformat": 4,
 "nbformat_minor": 2
}
