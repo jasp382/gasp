{
 "cells": [
  {
   "cell_type": "markdown",
   "metadata": {},
   "source": [
    "### Get Stop Words ###"
   ]
  },
  {
   "cell_type": "code",
   "execution_count": null,
   "metadata": {},
   "outputs": [],
   "source": [
    "from gasp3.dt.txtcls.san import get_stop_words\n",
    "\n",
    "intbl  = '/home/jasp/todo/geotm/text_cls/tbl_ref/ref_fire_facebook_2017_2018.xlsx'\n",
    "outtbl = '/home/jasp/todo/geotm/text_cls/tbl_ref/test_fire_face_1718_sw.xlsx'\n",
    "\n",
    "conParam = {\n",
    "    'HOST': 'localhost', 'PORT' : '5432', 'PASSWORD' : 'admin',\n",
    "    'USER' : 'postgres', 'TEMPLATE' : 'postgis_template'\n",
    "}\n",
    "\n",
    "get_stop_words(\n",
    "    conParam, intbl, 'post_id', 'message', outtbl,\n",
    "    inSheet='test'\n",
    ")"
   ]
  },
  {
   "cell_type": "markdown",
   "metadata": {},
   "source": [
    "### Go Machine Learning ###"
   ]
  },
  {
   "cell_type": "code",
   "execution_count": null,
   "metadata": {},
   "outputs": [],
   "source": [
    "trainData = '/home/jasp/todo/geotm/text_cls/tbl_ref/train_fire_face_1718_sw.xlsx'\n",
    "classData = '/home/jasp/todo/geotm/text_cls/tbl_ref/test_fire_face_1718_sw.xlsx'\n",
    "\n",
    "trainSheet = 'train'\n",
    "trainRefCol  = 'e_incendio'\n",
    "trainDataCol = 'clean_message'\n",
    "classDataCol = 'clean_message'\n",
    "\n",
    "lang = None\n",
    "\n",
    "outCorrWords = '/home/jasp/todo/geotm/text_cls/tbl_res/tst_corr_words.xlsx'\n",
    "outPredict   = '/home/jasp/todo/geotm/text_cls/tbl_res/predict_svm.xlsx'\n",
    "outEval      = '/home/jasp/todo/geotm/text_cls/tbl_res/model_eval.xlsx'\n",
    "outMxt       = '/home/jasp/todo/geotm/text_cls/tbl_res/mxt_svm.xlsx'"
   ]
  },
  {
   "cell_type": "code",
   "execution_count": null,
   "metadata": {},
   "outputs": [],
   "source": [
    "from gasp3.dt.txtcls import correlated_words\n",
    "\n",
    "correlated_words(\n",
    "    trainData, trainRefCol, trainDataCol, outCorrWords,\n",
    "    lang=lang, N=3, refSheet=trainSheet\n",
    ")"
   ]
  },
  {
   "cell_type": "code",
   "execution_count": null,
   "metadata": {},
   "outputs": [],
   "source": [
    "from gasp3.dt.txtcls import model_selection\n",
    "\n",
    "model_selection(trainData, trainRefCol, trainDataCol, outEval, lang=lang)"
   ]
  },
  {
   "cell_type": "code",
   "execution_count": null,
   "metadata": {},
   "outputs": [],
   "source": [
    "from gasp3.dt.txtcls import text_prediction\n",
    "\n",
    "text_prediction(\n",
    "    trainData, classData, trainRefCol, trainDataCol,\n",
    "    classDataCol, outPredict, method='LinearSupportVectorMachine')"
   ]
  },
  {
   "cell_type": "code",
   "execution_count": null,
   "metadata": {},
   "outputs": [],
   "source": [
    "from gasp3.dt.txtcls import model_evaluation\n",
    "\n",
    "model_evaluation(outPredict, 'is_incendio_v2', 'n_class', outMxt)"
   ]
  },
  {
   "cell_type": "markdown",
   "metadata": {},
   "source": [
    "### SQL Based Methodology ###"
   ]
  },
  {
   "cell_type": "code",
   "execution_count": null,
   "metadata": {},
   "outputs": [],
   "source": [
    "conParam = {\n",
    "    \"HOST\" : \"localhost\", \"PORT\" : \"5432\", \"PASSWORD\" : \"admin\",\n",
    "    \"USER\" : \"postgres\" , \"DATABASE\" : \"dsn_collect\"\n",
    "}\n",
    "\n",
    "TBL_SCHEMA = {\n",
    "    \"TNAME\"   : \"facedata\",\n",
    "    \"TEXTCOL\" : \"lower_message\",\n",
    "    \"TIMECOL\" : \"datahora\",\n",
    "    \"SELCOL\"  : ['post_id AS fid', 'type AS tipo', 'message AS mess'],\n",
    "    \"TEXTCASE\" : (\n",
    "        \"CASE WHEN type = 'link' THEN lower(unaccent(description)) \"\n",
    "        \"ELSE lower(unaccent(message)) END\"\n",
    "    )\n",
    "}\n",
    "\n",
    "START = '2017-06-01 00:00:00'\n",
    "END   = '2018-10-31 23:59:59'\n",
    "\n",
    "WORDS   = ['incendi', 'fog']\n",
    "\n",
    "RESULT = '/home/jasp/todo/geotm/text_cls/tbl_res/sql_incendio1718.xlsx'"
   ]
  },
  {
   "cell_type": "code",
   "execution_count": null,
   "metadata": {},
   "outputs": [],
   "source": [
    "from gasp3.dt.txtcls.qbase import get_rows_related_with_event\n",
    "\n",
    "get_rows_related_with_event(\n",
    "    conParam, TBL_SCHEMA, WORDS, RESULT,\n",
    "    startTime=START, endTime=END\n",
    ")"
   ]
  },
  {
   "cell_type": "markdown",
   "metadata": {},
   "source": [
    "### Classification Evaluation ###"
   ]
  },
  {
   "cell_type": "markdown",
   "metadata": {},
   "source": [
    "##### Binary classification evaluation ######"
   ]
  },
  {
   "cell_type": "code",
   "execution_count": null,
   "metadata": {},
   "outputs": [],
   "source": [
    "from gasp3.dt.txtcls.eval import binary_eval\n",
    "\n",
    "ref_data = '/home/jasp/todo/geotm/text_cls/tbl_ref/test_fire_face_1718_sw.xlsx'\n",
    "tst_data = '/home/jasp/todo/geotm/text_cls/tbl_res/predict_svm.xlsx'\n",
    "eval_tbl = '/home/jasp/todo/geotm/text_cls/tbl_res/svm_eval.xlsx'\n",
    "\n",
    "refIDCol = 'post_id'\n",
    "refCol   = 'is_incendio_v2'\n",
    "tstIDCol = 'fid'\n",
    "tstCol   = 'n_class'\n",
    "\n",
    "a = binary_eval(\n",
    "    ref_data, refIDCol, refCol, tst_data, tstIDCol,eval_tbl, tstCol=tstCol\n",
    ")"
   ]
  },
  {
   "cell_type": "code",
   "execution_count": null,
   "metadata": {},
   "outputs": [],
   "source": [
    "from gasp3.fm import tbl_to_obj\n",
    "from gasp3.to import obj_to_tbl\n",
    "\n",
    "ref_df = tbl_to_obj(ref_data, useFirstColAsIndex=None)\n",
    "tst_df = tbl_to_obj(tst_data, useFirstColAsIndex=None)"
   ]
  },
  {
   "cell_type": "code",
   "execution_count": null,
   "metadata": {},
   "outputs": [],
   "source": [
    "ref_df.head(5)"
   ]
  },
  {
   "cell_type": "code",
   "execution_count": null,
   "metadata": {},
   "outputs": [],
   "source": [
    "tst_df.head(5)"
   ]
  },
  {
   "cell_type": "code",
   "execution_count": null,
   "metadata": {},
   "outputs": [],
   "source": [
    "df = ref_df.merge(tst_df, how='left', left_on='post_id', right_on='fid')"
   ]
  },
  {
   "cell_type": "code",
   "execution_count": null,
   "metadata": {},
   "outputs": [],
   "source": [
    "df.head(5)"
   ]
  },
  {
   "cell_type": "code",
   "execution_count": null,
   "metadata": {},
   "outputs": [],
   "source": []
  }
 ],
 "metadata": {
  "kernelspec": {
   "display_name": "Python 3",
   "language": "python",
   "name": "python3"
  },
  "language_info": {
   "codemirror_mode": {
    "name": "ipython",
    "version": 3
   },
   "file_extension": ".py",
   "mimetype": "text/x-python",
   "name": "python",
   "nbconvert_exporter": "python",
   "pygments_lexer": "ipython3",
   "version": "3.6.8"
  }
 },
 "nbformat": 4,
 "nbformat_minor": 2
}
