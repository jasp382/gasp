{
 "cells": [
  {
   "cell_type": "markdown",
   "metadata": {},
   "source": [
    "### Top Left and Lower Right to Boundary ###"
   ]
  },
  {
   "cell_type": "code",
   "execution_count": null,
   "metadata": {},
   "outputs": [],
   "source": [
    "from gasp3.to.shp import coords_to_boundary\n",
    "\n",
    "TOP_LEFT    = (16.4789, 68.5588)\n",
    "LOWER_RIGHT = (17.7556, 68.3362)\n",
    "EPSG        = 4326\n",
    "RESULT      = r'D:\\indev\\matereo\\lmt\\lmt_hba.shp'\n",
    "OUT_EPSG    = 32633\n",
    "\n",
    "coords_to_boundary(TOP_LEFT, LOWER_RIGHT, EPSG, RESULT, outEpsg=OUT_EPSG)"
   ]
  },
  {
   "cell_type": "markdown",
   "metadata": {},
   "source": [
    "### SQL to ESRI Shapefile ###"
   ]
  },
  {
   "cell_type": "code",
   "execution_count": 1,
   "metadata": {},
   "outputs": [
    {
     "name": "stdout",
     "output_type": "stream",
     "text": [
      "SELECT fid, CAST(date AS text) AS data, CAST(timm AS text) AS hora, (360 - dire) AS cell_direction, tmp_user AS place, real_direction, loc, ST_X(loc) AS x_coord, ST_Y(loc) AS y_coord FROM evgifront_fireloc_contrib WHERE tmp_user = 'Cabra '\n"
     ]
    },
    {
     "data": {
      "text/plain": [
       "'/home/jasp/tst_fire.shp'"
      ]
     },
     "execution_count": 1,
     "metadata": {},
     "output_type": "execute_result"
    }
   ],
   "source": [
    "conPSQL = {\n",
    "    'HOST' : 'localhost', 'PORT' : '5432', 'USER' : 'postgres',\n",
    "    'PASSWORD' : 'admin', 'DATABASE' : 'expvgi_db'\n",
    "}\n",
    "\n",
    "from gasp3.dt.to.shp import psql_to_shp\n",
    "\n",
    "Q = (\n",
    "    \"SELECT fid, CAST(date AS text) AS data, CAST(timm AS text) AS hora, (360 - dire) AS cell_direction, \"\n",
    "    \"tmp_user AS place, real_direction, loc, \"\n",
    "    \"ST_X(loc) AS x_coord, ST_Y(loc) AS y_coord \"\n",
    "    \"FROM evgifront_fireloc_contrib \"\n",
    "    \"WHERE tmp_user = 'Cabra '\"\n",
    ")\n",
    "\n",
    "print(Q)\n",
    "\n",
    "psql_to_shp(\n",
    "    conPSQL, Q, '/home/jasp/tst_fire.shp', api='pgsql2shp',\n",
    "    epsg=3763, geom_col='loc', tableIsQuery=True\n",
    ")"
   ]
  },
  {
   "cell_type": "code",
   "execution_count": null,
   "metadata": {},
   "outputs": [],
   "source": [
    "from gasp3.dt.fm.sql import query_to_df\n",
    "\n",
    "conPSQL = {\n",
    "    'HOST' : 'localhost', 'PORT' : '5432', 'USER' : 'postgres',\n",
    "    'PASSWORD' : 'admin', 'DATABASE' : 'expvgi_db'\n",
    "}\n",
    "\n",
    "a = query_to_df(conPSQL, (\n",
    "    \"SELECT fid, CAST(date AS text) AS data, CAST(timm AS text) AS hora, (360 - dire) AS cell_direction, \"\n",
    "    \"tmp_user AS place, real_direction, loc, \"\n",
    "    \"ST_X(loc) AS x_coord, ST_Y(loc) AS y_coord \"\n",
    "    \"FROM evgifront_fireloc_contrib \"\n",
    "    \"WHERE tmp_user <>'Cabra '\"\n",
    "))\n",
    "\n",
    "print(a)"
   ]
  },
  {
   "cell_type": "code",
   "execution_count": null,
   "metadata": {},
   "outputs": [],
   "source": []
  }
 ],
 "metadata": {
  "kernelspec": {
   "display_name": "Python 3",
   "language": "python",
   "name": "python3"
  },
  "language_info": {
   "codemirror_mode": {
    "name": "ipython",
    "version": 3
   },
   "file_extension": ".py",
   "mimetype": "text/x-python",
   "name": "python",
   "nbconvert_exporter": "python",
   "pygments_lexer": "ipython3",
   "version": "3.6.8"
  }
 },
 "nbformat": 4,
 "nbformat_minor": 2
}
