{
 "cells": [
  {
   "cell_type": "code",
   "execution_count": 1,
   "metadata": {},
   "outputs": [],
   "source": [
    "from gasp.fmshp import shp_to_df\n",
    "from gasp.pnd.mng.prj import project_df\n",
    "\n",
    "REF_GRID = r'D:\\gis\\DSN_Collector\\pnt_10x10km.shp'\n",
    "EPSG = 3763\n",
    "\n",
    "refDf = shp_to_df(REF_GRID)\n",
    "\n",
    "if EPSG != 4326:\n",
    "    refDf = project_df(refDf, 4326)\n",
    "\n",
    "refDf[\"lat\"] = refDf.geometry.y.astype(float)\n",
    "refDf[\"lng\"] = refDf.geometry.x.astype(float)"
   ]
  },
  {
   "cell_type": "code",
   "execution_count": 2,
   "metadata": {},
   "outputs": [
    {
     "name": "stdout",
     "output_type": "stream",
     "text": [
      "https://api.openweathermap.org/data/2.5/weather?lat=40.24967035293887&lon=-8.417438514714513&appid=2ad19221a69d566f59ee3306f50ed69d\n"
     ]
    }
   ],
   "source": [
    "from gasp.fmapi.openweath import conditions_by_position\n",
    "\n",
    "data = conditions_by_position(refDf.iloc[618]['lat'], refDf.iloc[618]['lng'])"
   ]
  },
  {
   "cell_type": "code",
   "execution_count": 3,
   "metadata": {},
   "outputs": [
    {
     "name": "stdout",
     "output_type": "stream",
     "text": [
      "{u'clouds': {u'all': 0}, u'name': u'Eiras', u'visibility': 10000, u'sys': {u'country': u'PT', u'sunset': 1538676623, u'message': 0.0024, u'type': 1, u'id': 5953, u'sunrise': 1538634806}, u'weather': [{u'main': u'Clear', u'id': 800, u'icon': u'01d', u'description': u'clear sky'}], u'coord': {u'lat': 40.25, u'lon': -8.42}, u'base': u'stations', u'dt': 1538658000, u'main': {u'pressure': 1018, u'temp_min': 302.15, u'temp_max': 302.15, u'temp': 302.15, u'humidity': 21}, u'id': 2740057, u'wind': {u'speed': 5.7, u'deg': 320}, u'cod': 200}\n"
     ]
    }
   ],
   "source": [
    "print data"
   ]
  },
  {
   "cell_type": "code",
   "execution_count": null,
   "metadata": {},
   "outputs": [],
   "source": []
  }
 ],
 "metadata": {
  "kernelspec": {
   "display_name": "Python 2",
   "language": "python",
   "name": "python2"
  },
  "language_info": {
   "codemirror_mode": {
    "name": "ipython",
    "version": 2
   },
   "file_extension": ".py",
   "mimetype": "text/x-python",
   "name": "python",
   "nbconvert_exporter": "python",
   "pygments_lexer": "ipython2",
   "version": "2.7.12"
  }
 },
 "nbformat": 4,
 "nbformat_minor": 2
}
